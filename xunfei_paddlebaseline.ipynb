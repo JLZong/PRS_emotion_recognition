{
 "cells": [
  {
   "cell_type": "code",
   "execution_count": null,
   "metadata": {
    "collapsed": false
   },
   "outputs": [
    {
     "name": "stdout",
     "output_type": "stream",
     "text": [
      "Looking in indexes: https://mirror.baidu.com/pypi/simple\n",
      "Requirement already satisfied: paddlex==2.0.0rc4 in /opt/conda/envs/python35-paddle120-env/lib/python3.7/site-packages (2.0.0rc4)\n",
      "Requirement already satisfied: scipy in /opt/conda/envs/python35-paddle120-env/lib/python3.7/site-packages (from paddlex==2.0.0rc4) (1.6.3)\n",
      "Requirement already satisfied: visualdl>=2.1.1 in /opt/conda/envs/python35-paddle120-env/lib/python3.7/site-packages (from paddlex==2.0.0rc4) (2.2.0)\n",
      "Requirement already satisfied: pyyaml in /opt/conda/envs/python35-paddle120-env/lib/python3.7/site-packages (from paddlex==2.0.0rc4) (5.1.2)\n",
      "Requirement already satisfied: motmetrics in /opt/conda/envs/python35-paddle120-env/lib/python3.7/site-packages (from paddlex==2.0.0rc4) (1.2.0)\n",
      "Collecting scikit-learn==0.23.2 (from paddlex==2.0.0rc4)\n",
      "\u001b[?25l  Downloading https://mirror.baidu.com/pypi/packages/f4/cb/64623369f348e9bfb29ff898a57ac7c91ed4921f228e9726546614d63ccb/scikit_learn-0.23.2-cp37-cp37m-manylinux1_x86_64.whl (6.8MB)\n",
      "     |████████████████████████████████| 6.8MB 12.6MB/s eta 0:00:01\n",
      "\u001b[?25hRequirement already satisfied: paddleslim==2.1.0 in /opt/conda/envs/python35-paddle120-env/lib/python3.7/site-packages (from paddlex==2.0.0rc4) (2.1.0)\n",
      "Requirement already satisfied: colorama in /opt/conda/envs/python35-paddle120-env/lib/python3.7/site-packages (from paddlex==2.0.0rc4) (0.4.4)\n",
      "Requirement already satisfied: pycocotools; platform_system != \"Windows\" in /opt/conda/envs/python35-paddle120-env/lib/python3.7/site-packages (from paddlex==2.0.0rc4) (2.0.2)\n",
      "Requirement already satisfied: opencv-python in /opt/conda/envs/python35-paddle120-env/lib/python3.7/site-packages (from paddlex==2.0.0rc4) (4.1.1.26)\n",
      "Requirement already satisfied: shapely>=1.7.0 in /opt/conda/envs/python35-paddle120-env/lib/python3.7/site-packages (from paddlex==2.0.0rc4) (1.7.1)\n",
      "Requirement already satisfied: lap in /opt/conda/envs/python35-paddle120-env/lib/python3.7/site-packages (from paddlex==2.0.0rc4) (0.4.0)\n",
      "Requirement already satisfied: tqdm in /opt/conda/envs/python35-paddle120-env/lib/python3.7/site-packages (from paddlex==2.0.0rc4) (4.36.1)\n",
      "Requirement already satisfied: numpy<1.23.0,>=1.16.5 in /opt/conda/envs/python35-paddle120-env/lib/python3.7/site-packages (from scipy->paddlex==2.0.0rc4) (1.20.3)\n",
      "Requirement already satisfied: pandas in /opt/conda/envs/python35-paddle120-env/lib/python3.7/site-packages (from visualdl>=2.1.1->paddlex==2.0.0rc4) (1.1.5)\n",
      "Requirement already satisfied: shellcheck-py in /opt/conda/envs/python35-paddle120-env/lib/python3.7/site-packages (from visualdl>=2.1.1->paddlex==2.0.0rc4) (0.7.1.1)\n",
      "Requirement already satisfied: protobuf>=3.11.0 in /opt/conda/envs/python35-paddle120-env/lib/python3.7/site-packages (from visualdl>=2.1.1->paddlex==2.0.0rc4) (3.14.0)\n",
      "Requirement already satisfied: flask>=1.1.1 in /opt/conda/envs/python35-paddle120-env/lib/python3.7/site-packages (from visualdl>=2.1.1->paddlex==2.0.0rc4) (1.1.1)\n",
      "Requirement already satisfied: matplotlib in /opt/conda/envs/python35-paddle120-env/lib/python3.7/site-packages (from visualdl>=2.1.1->paddlex==2.0.0rc4) (2.2.3)\n",
      "Requirement already satisfied: requests in /opt/conda/envs/python35-paddle120-env/lib/python3.7/site-packages (from visualdl>=2.1.1->paddlex==2.0.0rc4) (2.22.0)\n",
      "Requirement already satisfied: Flask-Babel>=1.0.0 in /opt/conda/envs/python35-paddle120-env/lib/python3.7/site-packages (from visualdl>=2.1.1->paddlex==2.0.0rc4) (1.0.0)\n",
      "Requirement already satisfied: Pillow>=7.0.0 in /opt/conda/envs/python35-paddle120-env/lib/python3.7/site-packages (from visualdl>=2.1.1->paddlex==2.0.0rc4) (7.1.2)\n",
      "Requirement already satisfied: flake8>=3.7.9 in /opt/conda/envs/python35-paddle120-env/lib/python3.7/site-packages (from visualdl>=2.1.1->paddlex==2.0.0rc4) (3.8.2)\n",
      "Requirement already satisfied: bce-python-sdk in /opt/conda/envs/python35-paddle120-env/lib/python3.7/site-packages (from visualdl>=2.1.1->paddlex==2.0.0rc4) (0.8.53)\n",
      "Requirement already satisfied: six>=1.14.0 in /opt/conda/envs/python35-paddle120-env/lib/python3.7/site-packages (from visualdl>=2.1.1->paddlex==2.0.0rc4) (1.15.0)\n",
      "Requirement already satisfied: pre-commit in /opt/conda/envs/python35-paddle120-env/lib/python3.7/site-packages (from visualdl>=2.1.1->paddlex==2.0.0rc4) (1.21.0)\n",
      "Requirement already satisfied: pytest in /opt/conda/envs/python35-paddle120-env/lib/python3.7/site-packages (from motmetrics->paddlex==2.0.0rc4) (6.2.4)\n",
      "Requirement already satisfied: xmltodict>=0.12.0 in /opt/conda/envs/python35-paddle120-env/lib/python3.7/site-packages (from motmetrics->paddlex==2.0.0rc4) (0.12.0)\n",
      "Requirement already satisfied: pytest-benchmark in /opt/conda/envs/python35-paddle120-env/lib/python3.7/site-packages (from motmetrics->paddlex==2.0.0rc4) (3.4.1)\n",
      "Requirement already satisfied: flake8-import-order in /opt/conda/envs/python35-paddle120-env/lib/python3.7/site-packages (from motmetrics->paddlex==2.0.0rc4) (0.18.1)\n",
      "Requirement already satisfied: threadpoolctl>=2.0.0 in /opt/conda/envs/python35-paddle120-env/lib/python3.7/site-packages (from scikit-learn==0.23.2->paddlex==2.0.0rc4) (2.1.0)\n",
      "Requirement already satisfied: joblib>=0.11 in /opt/conda/envs/python35-paddle120-env/lib/python3.7/site-packages (from scikit-learn==0.23.2->paddlex==2.0.0rc4) (0.14.1)\n",
      "Requirement already satisfied: pyzmq in /opt/conda/envs/python35-paddle120-env/lib/python3.7/site-packages (from paddleslim==2.1.0->paddlex==2.0.0rc4) (18.1.1)\n",
      "Requirement already satisfied: setuptools>=18.0 in /opt/conda/envs/python35-paddle120-env/lib/python3.7/site-packages (from pycocotools; platform_system != \"Windows\"->paddlex==2.0.0rc4) (56.2.0)\n",
      "Requirement already satisfied: cython>=0.27.3 in /opt/conda/envs/python35-paddle120-env/lib/python3.7/site-packages (from pycocotools; platform_system != \"Windows\"->paddlex==2.0.0rc4) (0.29)\n",
      "Requirement already satisfied: python-dateutil>=2.7.3 in /opt/conda/envs/python35-paddle120-env/lib/python3.7/site-packages (from pandas->visualdl>=2.1.1->paddlex==2.0.0rc4) (2.8.0)\n",
      "Requirement already satisfied: pytz>=2017.2 in /opt/conda/envs/python35-paddle120-env/lib/python3.7/site-packages (from pandas->visualdl>=2.1.1->paddlex==2.0.0rc4) (2019.3)\n",
      "Requirement already satisfied: itsdangerous>=0.24 in /opt/conda/envs/python35-paddle120-env/lib/python3.7/site-packages (from flask>=1.1.1->visualdl>=2.1.1->paddlex==2.0.0rc4) (1.1.0)\n",
      "Requirement already satisfied: click>=5.1 in /opt/conda/envs/python35-paddle120-env/lib/python3.7/site-packages (from flask>=1.1.1->visualdl>=2.1.1->paddlex==2.0.0rc4) (7.0)\n",
      "Requirement already satisfied: Jinja2>=2.10.1 in /opt/conda/envs/python35-paddle120-env/lib/python3.7/site-packages (from flask>=1.1.1->visualdl>=2.1.1->paddlex==2.0.0rc4) (2.10.1)\n",
      "Requirement already satisfied: Werkzeug>=0.15 in /opt/conda/envs/python35-paddle120-env/lib/python3.7/site-packages (from flask>=1.1.1->visualdl>=2.1.1->paddlex==2.0.0rc4) (0.16.0)\n",
      "Requirement already satisfied: pyparsing!=2.0.4,!=2.1.2,!=2.1.6,>=2.0.1 in /opt/conda/envs/python35-paddle120-env/lib/python3.7/site-packages (from matplotlib->visualdl>=2.1.1->paddlex==2.0.0rc4) (2.4.2)\n",
      "Requirement already satisfied: cycler>=0.10 in /opt/conda/envs/python35-paddle120-env/lib/python3.7/site-packages (from matplotlib->visualdl>=2.1.1->paddlex==2.0.0rc4) (0.10.0)\n",
      "Requirement already satisfied: kiwisolver>=1.0.1 in /opt/conda/envs/python35-paddle120-env/lib/python3.7/site-packages (from matplotlib->visualdl>=2.1.1->paddlex==2.0.0rc4) (1.1.0)\n",
      "Requirement already satisfied: chardet<3.1.0,>=3.0.2 in /opt/conda/envs/python35-paddle120-env/lib/python3.7/site-packages (from requests->visualdl>=2.1.1->paddlex==2.0.0rc4) (3.0.4)\n",
      "Requirement already satisfied: certifi>=2017.4.17 in /opt/conda/envs/python35-paddle120-env/lib/python3.7/site-packages (from requests->visualdl>=2.1.1->paddlex==2.0.0rc4) (2019.9.11)\n",
      "Requirement already satisfied: idna<2.9,>=2.5 in /opt/conda/envs/python35-paddle120-env/lib/python3.7/site-packages (from requests->visualdl>=2.1.1->paddlex==2.0.0rc4) (2.8)\n",
      "Requirement already satisfied: urllib3!=1.25.0,!=1.25.1,<1.26,>=1.21.1 in /opt/conda/envs/python35-paddle120-env/lib/python3.7/site-packages (from requests->visualdl>=2.1.1->paddlex==2.0.0rc4) (1.25.6)\n",
      "Requirement already satisfied: Babel>=2.3 in /opt/conda/envs/python35-paddle120-env/lib/python3.7/site-packages (from Flask-Babel>=1.0.0->visualdl>=2.1.1->paddlex==2.0.0rc4) (2.8.0)\n",
      "Requirement already satisfied: importlib-metadata; python_version < \"3.8\" in /opt/conda/envs/python35-paddle120-env/lib/python3.7/site-packages (from flake8>=3.7.9->visualdl>=2.1.1->paddlex==2.0.0rc4) (0.23)\n",
      "Requirement already satisfied: pyflakes<2.3.0,>=2.2.0 in /opt/conda/envs/python35-paddle120-env/lib/python3.7/site-packages (from flake8>=3.7.9->visualdl>=2.1.1->paddlex==2.0.0rc4) (2.2.0)\n",
      "Requirement already satisfied: mccabe<0.7.0,>=0.6.0 in /opt/conda/envs/python35-paddle120-env/lib/python3.7/site-packages (from flake8>=3.7.9->visualdl>=2.1.1->paddlex==2.0.0rc4) (0.6.1)\n",
      "Requirement already satisfied: pycodestyle<2.7.0,>=2.6.0a1 in /opt/conda/envs/python35-paddle120-env/lib/python3.7/site-packages (from flake8>=3.7.9->visualdl>=2.1.1->paddlex==2.0.0rc4) (2.6.0)\n",
      "Requirement already satisfied: future>=0.6.0 in /opt/conda/envs/python35-paddle120-env/lib/python3.7/site-packages (from bce-python-sdk->visualdl>=2.1.1->paddlex==2.0.0rc4) (0.18.0)\n",
      "Requirement already satisfied: pycryptodome>=3.8.0 in /opt/conda/envs/python35-paddle120-env/lib/python3.7/site-packages (from bce-python-sdk->visualdl>=2.1.1->paddlex==2.0.0rc4) (3.9.9)\n",
      "Requirement already satisfied: toml in /opt/conda/envs/python35-paddle120-env/lib/python3.7/site-packages (from pre-commit->visualdl>=2.1.1->paddlex==2.0.0rc4) (0.10.0)\n",
      "Requirement already satisfied: virtualenv>=15.2 in /opt/conda/envs/python35-paddle120-env/lib/python3.7/site-packages (from pre-commit->visualdl>=2.1.1->paddlex==2.0.0rc4) (16.7.9)\n",
      "Requirement already satisfied: aspy.yaml in /opt/conda/envs/python35-paddle120-env/lib/python3.7/site-packages (from pre-commit->visualdl>=2.1.1->paddlex==2.0.0rc4) (1.3.0)\n",
      "Requirement already satisfied: cfgv>=2.0.0 in /opt/conda/envs/python35-paddle120-env/lib/python3.7/site-packages (from pre-commit->visualdl>=2.1.1->paddlex==2.0.0rc4) (2.0.1)\n",
      "Requirement already satisfied: identify>=1.0.0 in /opt/conda/envs/python35-paddle120-env/lib/python3.7/site-packages (from pre-commit->visualdl>=2.1.1->paddlex==2.0.0rc4) (1.4.10)\n",
      "Requirement already satisfied: nodeenv>=0.11.1 in /opt/conda/envs/python35-paddle120-env/lib/python3.7/site-packages (from pre-commit->visualdl>=2.1.1->paddlex==2.0.0rc4) (1.3.4)\n",
      "Requirement already satisfied: packaging in /opt/conda/envs/python35-paddle120-env/lib/python3.7/site-packages (from pytest->motmetrics->paddlex==2.0.0rc4) (20.9)\n",
      "Requirement already satisfied: pluggy<1.0.0a1,>=0.12 in /opt/conda/envs/python35-paddle120-env/lib/python3.7/site-packages (from pytest->motmetrics->paddlex==2.0.0rc4) (0.13.1)\n",
      "Requirement already satisfied: attrs>=19.2.0 in /opt/conda/envs/python35-paddle120-env/lib/python3.7/site-packages (from pytest->motmetrics->paddlex==2.0.0rc4) (19.2.0)\n",
      "Requirement already satisfied: iniconfig in /opt/conda/envs/python35-paddle120-env/lib/python3.7/site-packages (from pytest->motmetrics->paddlex==2.0.0rc4) (1.1.1)\n",
      "Requirement already satisfied: py>=1.8.2 in /opt/conda/envs/python35-paddle120-env/lib/python3.7/site-packages (from pytest->motmetrics->paddlex==2.0.0rc4) (1.10.0)\n",
      "Requirement already satisfied: py-cpuinfo in /opt/conda/envs/python35-paddle120-env/lib/python3.7/site-packages (from pytest-benchmark->motmetrics->paddlex==2.0.0rc4) (8.0.0)\n",
      "Requirement already satisfied: MarkupSafe>=0.23 in /opt/conda/envs/python35-paddle120-env/lib/python3.7/site-packages (from Jinja2>=2.10.1->flask>=1.1.1->visualdl>=2.1.1->paddlex==2.0.0rc4) (1.1.1)\n",
      "Requirement already satisfied: zipp>=0.5 in /opt/conda/envs/python35-paddle120-env/lib/python3.7/site-packages (from importlib-metadata; python_version < \"3.8\"->flake8>=3.7.9->visualdl>=2.1.1->paddlex==2.0.0rc4) (0.6.0)\n",
      "Requirement already satisfied: more-itertools in /opt/conda/envs/python35-paddle120-env/lib/python3.7/site-packages (from zipp>=0.5->importlib-metadata; python_version < \"3.8\"->flake8>=3.7.9->visualdl>=2.1.1->paddlex==2.0.0rc4) (7.2.0)\n",
      "ERROR: imbalanced-learn 0.8.0 has requirement scikit-learn>=0.24, but you'll have scikit-learn 0.23.2 which is incompatible.\n",
      "ERROR: blackhole 1.0.1 has requirement numpy<=1.19.5, but you'll have numpy 1.20.3 which is incompatible.\n",
      "Installing collected packages: scikit-learn\n",
      "  Found existing installation: scikit-learn 0.24.2\n",
      "    Uninstalling scikit-learn-0.24.2:\n",
      "      Successfully uninstalled scikit-learn-0.24.2\n",
      "Successfully installed scikit-learn-0.23.2\n",
      "Looking in indexes: https://mirror.baidu.com/pypi/simple/\n",
      "Requirement already satisfied: imblearn in /opt/conda/envs/python35-paddle120-env/lib/python3.7/site-packages (0.0)\n",
      "Requirement already satisfied: imbalanced-learn in /opt/conda/envs/python35-paddle120-env/lib/python3.7/site-packages (from imblearn) (0.8.0)\n",
      "Requirement already satisfied: joblib>=0.11 in /opt/conda/envs/python35-paddle120-env/lib/python3.7/site-packages (from imbalanced-learn->imblearn) (0.14.1)\n",
      "Collecting scikit-learn>=0.24 (from imbalanced-learn->imblearn)\n",
      "\u001b[?25l  Downloading https://mirror.baidu.com/pypi/packages/a8/eb/a48f25c967526b66d5f1fa7a984594f0bf0a5afafa94a8c4dbc317744620/scikit_learn-0.24.2-cp37-cp37m-manylinux2010_x86_64.whl (22.3MB)\n",
      "     |████████████████████████████████| 22.3MB 8.7MB/s eta 0:00:011\n",
      "\u001b[?25hRequirement already satisfied: numpy>=1.13.3 in /opt/conda/envs/python35-paddle120-env/lib/python3.7/site-packages (from imbalanced-learn->imblearn) (1.20.3)\n",
      "Requirement already satisfied: scipy>=0.19.1 in /opt/conda/envs/python35-paddle120-env/lib/python3.7/site-packages (from imbalanced-learn->imblearn) (1.6.3)\n",
      "Requirement already satisfied: threadpoolctl>=2.0.0 in /opt/conda/envs/python35-paddle120-env/lib/python3.7/site-packages (from scikit-learn>=0.24->imbalanced-learn->imblearn) (2.1.0)\n",
      "ERROR: paddlex 2.0.0rc4 has requirement scikit-learn==0.23.2, but you'll have scikit-learn 0.24.2 which is incompatible.\n",
      "ERROR: blackhole 1.0.1 has requirement numpy<=1.19.5, but you'll have numpy 1.20.3 which is incompatible.\n",
      "Installing collected packages: scikit-learn\n",
      "  Found existing installation: scikit-learn 0.23.2\n",
      "    Uninstalling scikit-learn-0.23.2:\n",
      "      Successfully uninstalled scikit-learn-0.23.2\n",
      "Successfully installed scikit-learn-0.24.2\n"
     ]
    }
   ],
   "source": [
    "#collect paddlex imblearn\r\n",
    "!pip install paddlex==2.0.0rc4 -i https://mirror.baidu.com/pypi/simple\r\n",
    "!pip install imblearn"
   ]
  },
  {
   "cell_type": "code",
   "execution_count": null,
   "metadata": {
    "collapsed": false
   },
   "outputs": [
    {
     "name": "stdout",
     "output_type": "stream",
     "text": [
      "Archive:  data/data105081/test.zip\n",
      "replace work/test/06796.png? [y]es, [n]o, [A]ll, [N]one, [r]ename: ^C\n",
      "Archive:  data/data105081/train.zip\n",
      "replace work/train/happy/im4403.png? [y]es, [n]o, [A]ll, [N]one, [r]ename: "
     ]
    }
   ],
   "source": [
    "# #unzip data\r\n",
    "# !unzip data/data105081/test.zip -d work\r\n",
    "# !unzip data/data105081/train.zip -d work"
   ]
  },
  {
   "cell_type": "code",
   "execution_count": null,
   "metadata": {
    "collapsed": false
   },
   "outputs": [],
   "source": [
    "import matplotlib.pyplot as plt\r\n",
    "plt.style.use('seaborn')                   # if want to use the default style, set 'classic'\r\n",
    "plt.rcParams['ytick.right']     = True\r\n",
    "plt.rcParams['ytick.labelright']= True\r\n",
    "plt.rcParams['ytick.left']      = False\r\n",
    "plt.rcParams['ytick.labelleft'] = False\r\n",
    "import os\r\n",
    "os.environ['CUDA_VISIBLE_DEVICES'] = '0'\r\n",
    "import paddlex as pdx\r\n",
    "from paddlex import transforms as T"
   ]
  },
  {
   "cell_type": "code",
   "execution_count": null,
   "metadata": {
    "collapsed": false
   },
   "outputs": [
    {
     "name": "stdout",
     "output_type": "stream",
     "text": [
      "/opt/conda/envs/python35-paddle120-env/lib/python3.7/site-packages/paddle/distributed/parallel.py:120: UserWarning: Currently not a parallel execution environment, `paddle.distributed.init_parallel_env` will not do anything.\n",
      "  \"Currently not a parallel execution environment, `paddle.distributed.init_parallel_env` will not do anything.\"\n",
      "[08-20 21:10:43 MainThread @logger.py:242] Argv: /opt/conda/envs/python35-paddle120-env/bin/paddlex --split_dataset --format ImageNet --dataset_dir work/train --val_value 0.2\n",
      "[08-20 21:10:43 MainThread @utils.py:79] WRN paddlepaddle version: 2.1.2. The dynamic graph version of PARL is under development, not fully tested and supported\n",
      "/opt/conda/envs/python35-paddle120-env/lib/python3.7/site-packages/parl/remote/communication.py:38: DeprecationWarning: 'pyarrow.default_serialization_context' is deprecated as of 2.0.0 and will be removed in a future version. Use pickle or the pyarrow IPC functionality instead.\n",
      "  context = pyarrow.default_serialization_context()\n",
      "/opt/conda/envs/python35-paddle120-env/lib/python3.7/site-packages/pyarrow/pandas_compat.py:1027: DeprecationWarning: `np.float` is a deprecated alias for the builtin `float`. To silence this warning, use `float` by itself. Doing this will not modify any behavior and is safe. If you specifically wanted the numpy scalar type, use `np.float64` here.\n",
      "Deprecated in NumPy 1.20; for more details and guidance: https://numpy.org/devdocs/release/1.20.0-notes.html#deprecations\n",
      "  'floating': np.float,\n",
      "/opt/conda/envs/python35-paddle120-env/lib/python3.7/site-packages/matplotlib/__init__.py:107: DeprecationWarning: Using or importing the ABCs from 'collections' instead of from 'collections.abc' is deprecated, and in 3.8 it will stop working\n",
      "  from collections import MutableMapping\n",
      "/opt/conda/envs/python35-paddle120-env/lib/python3.7/site-packages/matplotlib/rcsetup.py:20: DeprecationWarning: Using or importing the ABCs from 'collections' instead of from 'collections.abc' is deprecated, and in 3.8 it will stop working\n",
      "  from collections import Iterable, Mapping\n",
      "/opt/conda/envs/python35-paddle120-env/lib/python3.7/site-packages/matplotlib/colors.py:53: DeprecationWarning: Using or importing the ABCs from 'collections' instead of from 'collections.abc' is deprecated, and in 3.8 it will stop working\n",
      "  from collections import Sized\n",
      "/opt/conda/envs/python35-paddle120-env/lib/python3.7/site-packages/paddle/tensor/creation.py:125: DeprecationWarning: `np.object` is a deprecated alias for the builtin `object`. To silence this warning, use `object` by itself. Doing this will not modify any behavior and is safe. \n",
      "Deprecated in NumPy 1.20; for more details and guidance: https://numpy.org/devdocs/release/1.20.0-notes.html#deprecations\n",
      "  if data.dtype == np.object:\n",
      "2021-08-20 21:10:45 [INFO]\tDataset split starts...\n",
      "2021-08-20 21:10:45 [INFO]\tDataset split done.\n",
      "2021-08-20 21:10:45 [INFO]\tTrain samples: 22968\n",
      "2021-08-20 21:10:45 [INFO]\tEval samples: 5741\n",
      "2021-08-20 21:10:45 [INFO]\tTest samples: 0\n",
      "2021-08-20 21:10:45 [INFO]\tSplit files saved in work/train\n"
     ]
    }
   ],
   "source": [
    "#split dataset\r\n",
    "!paddlex --split_dataset --format ImageNet --dataset_dir work/train --val_value 0.2 "
   ]
  },
  {
   "cell_type": "code",
   "execution_count": null,
   "metadata": {
    "collapsed": false
   },
   "outputs": [],
   "source": [
    "# data augument\r\n",
    "train_transforms = T.Compose([\r\n",
    "                            T.RandomBlur(), \r\n",
    "                            T.RandomHorizontalFlip(), \r\n",
    "                            T.Normalize(),\r\n",
    "                            ])                        \r\n",
    "eval_transforms = T.Compose([T.Normalize()])"
   ]
  },
  {
   "cell_type": "code",
   "execution_count": 34,
   "metadata": {
    "collapsed": false
   },
   "outputs": [
    {
     "name": "stdout",
     "output_type": "stream",
     "text": [
      "2021-08-20 21:35:54 [INFO]\tStarting to read file list from dataset...\n",
      "2021-08-20 21:35:55 [INFO]\t22968 samples in file work/train/train_list.txt\n",
      "2021-08-20 21:35:55 [INFO]\tStarting to read file list from dataset...\n",
      "2021-08-20 21:35:55 [INFO]\t5741 samples in file work/train/val_list.txt\n"
     ]
    }
   ],
   "source": [
    "train_dataset = pdx.datasets.ImageNet(\r\n",
    "    data_dir='work/train',\r\n",
    "    file_list='work/train/train_list.txt',\r\n",
    "    label_list='work/train/labels.txt',\r\n",
    "    transforms=train_transforms,\r\n",
    "    shuffle=True)\r\n",
    "    \r\n",
    "eval_dataset = pdx.datasets.ImageNet(\r\n",
    "    data_dir='work/train',\r\n",
    "    file_list='work/train/val_list.txt',\r\n",
    "    label_list='work/train/labels.txt',\r\n",
    "    transforms=eval_transforms)"
   ]
  },
  {
   "cell_type": "code",
   "execution_count": 44,
   "metadata": {
    "collapsed": false
   },
   "outputs": [
    {
     "name": "stdout",
     "output_type": "stream",
     "text": [
      "work/train/angry/im2123.png\n"
     ]
    }
   ],
   "source": [
    "# #smote imbalance todo\r\n",
    "# from imblearn.over_sampling import SMOTE \r\n",
    "# X=train_dataset.file_list\r\n",
    "# print(X[0]['image'])\r\n",
    "# Y=train_dataset.file_list\r\n",
    "# sm = SMOTE(random_state=1) \r\n"
   ]
  },
  {
   "cell_type": "code",
   "execution_count": null,
   "metadata": {
    "collapsed": false
   },
   "outputs": [
    {
     "name": "stdout",
     "output_type": "stream",
     "text": [
      "2021-08-20 21:21:45 [INFO]\tDownloading ResNet101_vd_ssld_pretrained.pdparams from https://paddle-imagenet-models-name.bj.bcebos.com/dygraph/ResNet101_vd_ssld_pretrained.pdparams\n"
     ]
    },
    {
     "name": "stderr",
     "output_type": "stream",
     "text": [
      "100%|██████████| 263250/263250 [00:04<00:00, 58569.87KB/s]\n"
     ]
    },
    {
     "name": "stdout",
     "output_type": "stream",
     "text": [
      "2021-08-20 21:21:49 [INFO]\tLoading pretrained model from output/ResNet101_vd_ssld/pretrain/ResNet101_vd_ssld_pretrained.pdparams\n",
      "2021-08-20 21:21:51 [WARNING]\t[SKIP] Shape of pretrained params out.weight doesn't match.(Pretrained: [2048, 1000], Actual: [2048, 7])\n",
      "2021-08-20 21:21:51 [WARNING]\t[SKIP] Shape of pretrained params out.bias doesn't match.(Pretrained: [1000], Actual: [7])\n",
      "2021-08-20 21:21:51 [INFO]\tThere are 530/532 variables loaded into ResNet101_vd_ssld.\n",
      "2021-08-20 21:21:53 [INFO]\t[TRAIN] Epoch=1/10, Step=10/179, loss=1.988329, acc1=0.164062, acc5=0.890625, lr=0.025000, time_each_step=0.17s, eta=0:5:18\n",
      "2021-08-20 21:21:54 [INFO]\t[TRAIN] Epoch=1/10, Step=20/179, loss=1.829863, acc1=0.351562, acc5=0.921875, lr=0.025000, time_each_step=0.12s, eta=0:3:32\n",
      "2021-08-20 21:21:55 [INFO]\t[TRAIN] Epoch=1/10, Step=30/179, loss=1.583818, acc1=0.359375, acc5=0.953125, lr=0.025000, time_each_step=0.12s, eta=0:3:30\n",
      "2021-08-20 21:21:57 [INFO]\t[TRAIN] Epoch=1/10, Step=40/179, loss=1.641431, acc1=0.351562, acc5=0.937500, lr=0.025000, time_each_step=0.12s, eta=0:3:29\n",
      "2021-08-20 21:21:58 [INFO]\t[TRAIN] Epoch=1/10, Step=50/179, loss=1.329305, acc1=0.468750, acc5=0.937500, lr=0.025000, time_each_step=0.11s, eta=0:3:17\n",
      "2021-08-20 21:21:59 [INFO]\t[TRAIN] Epoch=1/10, Step=60/179, loss=1.427711, acc1=0.492188, acc5=0.984375, lr=0.025000, time_each_step=0.11s, eta=0:3:13\n",
      "2021-08-20 21:22:00 [INFO]\t[TRAIN] Epoch=1/10, Step=70/179, loss=1.245968, acc1=0.515625, acc5=0.968750, lr=0.025000, time_each_step=0.11s, eta=0:3:13\n",
      "2021-08-20 21:22:01 [INFO]\t[TRAIN] Epoch=1/10, Step=80/179, loss=1.406776, acc1=0.515625, acc5=0.953125, lr=0.025000, time_each_step=0.11s, eta=0:3:12\n",
      "2021-08-20 21:22:02 [INFO]\t[TRAIN] Epoch=1/10, Step=90/179, loss=1.335926, acc1=0.554688, acc5=0.953125, lr=0.025000, time_each_step=0.12s, eta=0:3:28\n",
      "2021-08-20 21:22:03 [INFO]\t[TRAIN] Epoch=1/10, Step=100/179, loss=1.192478, acc1=0.562500, acc5=0.984375, lr=0.025000, time_each_step=0.11s, eta=0:3:13\n",
      "2021-08-20 21:22:04 [INFO]\t[TRAIN] Epoch=1/10, Step=110/179, loss=1.218759, acc1=0.554688, acc5=0.968750, lr=0.025000, time_each_step=0.11s, eta=0:3:13\n",
      "2021-08-20 21:22:05 [INFO]\t[TRAIN] Epoch=1/10, Step=120/179, loss=1.220194, acc1=0.531250, acc5=0.984375, lr=0.025000, time_each_step=0.11s, eta=0:3:10\n",
      "2021-08-20 21:22:07 [INFO]\t[TRAIN] Epoch=1/10, Step=130/179, loss=1.178294, acc1=0.601562, acc5=0.960938, lr=0.025000, time_each_step=0.11s, eta=0:3:13\n",
      "2021-08-20 21:22:08 [INFO]\t[TRAIN] Epoch=1/10, Step=140/179, loss=1.271448, acc1=0.539062, acc5=0.968750, lr=0.025000, time_each_step=0.12s, eta=0:3:15\n",
      "2021-08-20 21:22:09 [INFO]\t[TRAIN] Epoch=1/10, Step=150/179, loss=1.197505, acc1=0.562500, acc5=0.984375, lr=0.025000, time_each_step=0.11s, eta=0:3:11\n",
      "2021-08-20 21:22:10 [INFO]\t[TRAIN] Epoch=1/10, Step=160/179, loss=1.078707, acc1=0.570312, acc5=1.000000, lr=0.025000, time_each_step=0.11s, eta=0:3:7\n",
      "2021-08-20 21:22:11 [INFO]\t[TRAIN] Epoch=1/10, Step=170/179, loss=1.182542, acc1=0.546875, acc5=0.976562, lr=0.025000, time_each_step=0.11s, eta=0:3:11\n",
      "2021-08-20 21:22:12 [INFO]\t[TRAIN] Epoch 1 finished, loss=1.3740544, acc1=0.4785702, acc5=0.9555255 .\n",
      "2021-08-20 21:22:12 [INFO]\tStart to evaluate(total_samples=5741, total_steps=45)...\n",
      "2021-08-20 21:22:15 [INFO]\t[EVAL] Finished, Epoch=1, acc1=0.563177, acc5=0.979944 .\n",
      "2021-08-20 21:22:16 [INFO]\tModel saved in output/ResNet101_vd_ssld/best_model.\n",
      "2021-08-20 21:22:16 [INFO]\tCurrent evaluated best model on eval_dataset is epoch_1, acc1=0.5631769299507141\n",
      "2021-08-20 21:22:16 [INFO]\tModel saved in output/ResNet101_vd_ssld/epoch_1.\n",
      "2021-08-20 21:22:17 [INFO]\t[TRAIN] Epoch=2/10, Step=1/179, loss=1.135439, acc1=0.554688, acc5=0.976562, lr=0.025000, time_each_step=0.15s, eta=0:4:25\n",
      "2021-08-20 21:22:18 [INFO]\t[TRAIN] Epoch=2/10, Step=11/179, loss=1.063888, acc1=0.632812, acc5=0.984375, lr=0.025000, time_each_step=0.11s, eta=0:3:22\n",
      "2021-08-20 21:22:19 [INFO]\t[TRAIN] Epoch=2/10, Step=21/179, loss=0.995583, acc1=0.617188, acc5=1.000000, lr=0.025000, time_each_step=0.11s, eta=0:3:16\n",
      "2021-08-20 21:22:20 [INFO]\t[TRAIN] Epoch=2/10, Step=31/179, loss=1.069798, acc1=0.593750, acc5=0.992188, lr=0.025000, time_each_step=0.11s, eta=0:3:21\n",
      "2021-08-20 21:22:21 [INFO]\t[TRAIN] Epoch=2/10, Step=41/179, loss=1.084289, acc1=0.593750, acc5=1.000000, lr=0.025000, time_each_step=0.11s, eta=0:3:16\n",
      "2021-08-20 21:22:22 [INFO]\t[TRAIN] Epoch=2/10, Step=51/179, loss=1.107438, acc1=0.546875, acc5=0.992188, lr=0.025000, time_each_step=0.11s, eta=0:3:17\n",
      "2021-08-20 21:22:23 [INFO]\t[TRAIN] Epoch=2/10, Step=61/179, loss=0.997859, acc1=0.593750, acc5=0.992188, lr=0.025000, time_each_step=0.11s, eta=0:3:17\n",
      "2021-08-20 21:22:24 [INFO]\t[TRAIN] Epoch=2/10, Step=71/179, loss=1.048449, acc1=0.617188, acc5=0.976562, lr=0.025000, time_each_step=0.11s, eta=0:3:21\n",
      "2021-08-20 21:22:26 [INFO]\t[TRAIN] Epoch=2/10, Step=81/179, loss=0.895530, acc1=0.671875, acc5=0.992188, lr=0.025000, time_each_step=0.12s, eta=0:3:24\n",
      "2021-08-20 21:22:27 [INFO]\t[TRAIN] Epoch=2/10, Step=91/179, loss=1.252847, acc1=0.523438, acc5=0.992188, lr=0.025000, time_each_step=0.12s, eta=0:3:32\n",
      "2021-08-20 21:22:28 [INFO]\t[TRAIN] Epoch=2/10, Step=101/179, loss=0.917674, acc1=0.640625, acc5=0.992188, lr=0.025000, time_each_step=0.12s, eta=0:3:28\n",
      "2021-08-20 21:22:29 [INFO]\t[TRAIN] Epoch=2/10, Step=111/179, loss=1.058479, acc1=0.585938, acc5=0.984375, lr=0.025000, time_each_step=0.11s, eta=0:3:18\n",
      "2021-08-20 21:22:30 [INFO]\t[TRAIN] Epoch=2/10, Step=121/179, loss=0.994642, acc1=0.625000, acc5=1.000000, lr=0.025000, time_each_step=0.12s, eta=0:3:26\n",
      "2021-08-20 21:22:31 [INFO]\t[TRAIN] Epoch=2/10, Step=131/179, loss=1.076038, acc1=0.617188, acc5=0.984375, lr=0.025000, time_each_step=0.11s, eta=0:3:14\n",
      "2021-08-20 21:22:33 [INFO]\t[TRAIN] Epoch=2/10, Step=141/179, loss=1.124098, acc1=0.648438, acc5=0.976562, lr=0.025000, time_each_step=0.12s, eta=0:3:20\n",
      "2021-08-20 21:22:34 [INFO]\t[TRAIN] Epoch=2/10, Step=151/179, loss=1.053426, acc1=0.578125, acc5=0.968750, lr=0.025000, time_each_step=0.11s, eta=0:3:13\n",
      "2021-08-20 21:22:35 [INFO]\t[TRAIN] Epoch=2/10, Step=161/179, loss=1.178165, acc1=0.570312, acc5=0.960938, lr=0.025000, time_each_step=0.11s, eta=0:3:4\n",
      "2021-08-20 21:22:36 [INFO]\t[TRAIN] Epoch=2/10, Step=171/179, loss=1.040059, acc1=0.609375, acc5=0.992188, lr=0.025000, time_each_step=0.11s, eta=0:3:10\n",
      "2021-08-20 21:22:37 [INFO]\t[TRAIN] Epoch 2 finished, loss=1.0832556, acc1=0.5962814, acc5=0.98110163 .\n",
      "2021-08-20 21:22:37 [INFO]\tStart to evaluate(total_samples=5741, total_steps=45)...\n",
      "2021-08-20 21:22:40 [INFO]\t[EVAL] Finished, Epoch=2, acc1=0.572108, acc5=0.981016 .\n",
      "2021-08-20 21:22:43 [INFO]\tModel saved in output/ResNet101_vd_ssld/best_model.\n",
      "2021-08-20 21:22:43 [INFO]\tCurrent evaluated best model on eval_dataset is epoch_2, acc1=0.5721075534820557\n",
      "2021-08-20 21:22:43 [INFO]\tModel saved in output/ResNet101_vd_ssld/epoch_2.\n",
      "2021-08-20 21:22:44 [INFO]\t[TRAIN] Epoch=3/10, Step=2/179, loss=0.945745, acc1=0.687500, acc5=0.976562, lr=0.025000, time_each_step=0.15s, eta=0:4:17\n",
      "2021-08-20 21:22:45 [INFO]\t[TRAIN] Epoch=3/10, Step=12/179, loss=0.945129, acc1=0.625000, acc5=0.976562, lr=0.025000, time_each_step=0.11s, eta=0:3:9\n",
      "2021-08-20 21:22:46 [INFO]\t[TRAIN] Epoch=3/10, Step=22/179, loss=0.962795, acc1=0.679688, acc5=0.992188, lr=0.025000, time_each_step=0.11s, eta=0:3:9\n",
      "2021-08-20 21:22:47 [INFO]\t[TRAIN] Epoch=3/10, Step=32/179, loss=0.802989, acc1=0.679688, acc5=0.992188, lr=0.025000, time_each_step=0.11s, eta=0:3:10\n",
      "2021-08-20 21:22:48 [INFO]\t[TRAIN] Epoch=3/10, Step=42/179, loss=0.921767, acc1=0.687500, acc5=0.992188, lr=0.025000, time_each_step=0.11s, eta=0:3:9\n",
      "2021-08-20 21:22:49 [INFO]\t[TRAIN] Epoch=3/10, Step=52/179, loss=0.886016, acc1=0.703125, acc5=0.984375, lr=0.025000, time_each_step=0.11s, eta=0:3:7\n",
      "2021-08-20 21:22:50 [INFO]\t[TRAIN] Epoch=3/10, Step=62/179, loss=0.950690, acc1=0.640625, acc5=1.000000, lr=0.025000, time_each_step=0.11s, eta=0:3:10\n",
      "2021-08-20 21:22:51 [INFO]\t[TRAIN] Epoch=3/10, Step=72/179, loss=0.993418, acc1=0.664062, acc5=0.968750, lr=0.025000, time_each_step=0.11s, eta=0:3:9\n",
      "2021-08-20 21:22:53 [INFO]\t[TRAIN] Epoch=3/10, Step=82/179, loss=1.003392, acc1=0.632812, acc5=0.992188, lr=0.025000, time_each_step=0.13s, eta=0:3:35\n",
      "2021-08-20 21:22:54 [INFO]\t[TRAIN] Epoch=3/10, Step=92/179, loss=1.079637, acc1=0.617188, acc5=0.984375, lr=0.025000, time_each_step=0.12s, eta=0:3:18\n",
      "2021-08-20 21:22:55 [INFO]\t[TRAIN] Epoch=3/10, Step=102/179, loss=0.873472, acc1=0.640625, acc5=0.992188, lr=0.025000, time_each_step=0.11s, eta=0:3:8\n",
      "2021-08-20 21:22:56 [INFO]\t[TRAIN] Epoch=3/10, Step=112/179, loss=1.030381, acc1=0.609375, acc5=1.000000, lr=0.025000, time_each_step=0.11s, eta=0:3:9\n",
      "2021-08-20 21:22:57 [INFO]\t[TRAIN] Epoch=3/10, Step=122/179, loss=0.960378, acc1=0.609375, acc5=0.984375, lr=0.025000, time_each_step=0.11s, eta=0:3:4\n",
      "2021-08-20 21:22:59 [INFO]\t[TRAIN] Epoch=3/10, Step=132/179, loss=0.874309, acc1=0.664062, acc5=1.000000, lr=0.025000, time_each_step=0.13s, eta=0:3:23\n",
      "2021-08-20 21:23:00 [INFO]\t[TRAIN] Epoch=3/10, Step=142/179, loss=0.813717, acc1=0.718750, acc5=1.000000, lr=0.025000, time_each_step=0.12s, eta=0:3:14\n",
      "2021-08-20 21:23:01 [INFO]\t[TRAIN] Epoch=3/10, Step=152/179, loss=0.858307, acc1=0.664062, acc5=0.992188, lr=0.025000, time_each_step=0.13s, eta=0:3:27\n",
      "2021-08-20 21:23:02 [INFO]\t[TRAIN] Epoch=3/10, Step=162/179, loss=1.113069, acc1=0.593750, acc5=0.984375, lr=0.025000, time_each_step=0.12s, eta=0:3:12\n",
      "2021-08-20 21:23:03 [INFO]\t[TRAIN] Epoch=3/10, Step=172/179, loss=0.969129, acc1=0.585938, acc5=0.984375, lr=0.025000, time_each_step=0.12s, eta=0:3:5\n",
      "2021-08-20 21:23:04 [INFO]\t[TRAIN] Epoch 3 finished, loss=0.98782265, acc1=0.6377008, acc5=0.98633903 .\n",
      "2021-08-20 21:23:04 [INFO]\tStart to evaluate(total_samples=5741, total_steps=45)...\n",
      "2021-08-20 21:23:07 [INFO]\t[EVAL] Finished, Epoch=3, acc1=0.592481, acc5=0.984518 .\n",
      "2021-08-20 21:23:10 [INFO]\tModel saved in output/ResNet101_vd_ssld/best_model.\n",
      "2021-08-20 21:23:10 [INFO]\tCurrent evaluated best model on eval_dataset is epoch_3, acc1=0.5924805402755737\n",
      "2021-08-20 21:23:11 [INFO]\tModel saved in output/ResNet101_vd_ssld/epoch_3.\n",
      "2021-08-20 21:23:11 [INFO]\t[TRAIN] Epoch=4/10, Step=3/179, loss=0.769086, acc1=0.703125, acc5=1.000000, lr=0.025000, time_each_step=0.15s, eta=0:3:37\n",
      "2021-08-20 21:23:12 [INFO]\t[TRAIN] Epoch=4/10, Step=13/179, loss=0.799412, acc1=0.648438, acc5=0.992188, lr=0.025000, time_each_step=0.11s, eta=0:2:47\n",
      "2021-08-20 21:23:13 [INFO]\t[TRAIN] Epoch=4/10, Step=23/179, loss=0.887026, acc1=0.664062, acc5=0.984375, lr=0.025000, time_each_step=0.11s, eta=0:2:46\n",
      "2021-08-20 21:23:15 [INFO]\t[TRAIN] Epoch=4/10, Step=33/179, loss=0.886080, acc1=0.656250, acc5=1.000000, lr=0.025000, time_each_step=0.11s, eta=0:2:45\n",
      "2021-08-20 21:23:16 [INFO]\t[TRAIN] Epoch=4/10, Step=43/179, loss=0.730770, acc1=0.718750, acc5=1.000000, lr=0.025000, time_each_step=0.11s, eta=0:2:49\n",
      "2021-08-20 21:23:17 [INFO]\t[TRAIN] Epoch=4/10, Step=53/179, loss=0.947484, acc1=0.625000, acc5=0.984375, lr=0.025000, time_each_step=0.12s, eta=0:2:56\n",
      "2021-08-20 21:23:18 [INFO]\t[TRAIN] Epoch=4/10, Step=63/179, loss=0.884664, acc1=0.671875, acc5=0.992188, lr=0.025000, time_each_step=0.12s, eta=0:2:51\n",
      "2021-08-20 21:23:19 [INFO]\t[TRAIN] Epoch=4/10, Step=73/179, loss=0.791884, acc1=0.703125, acc5=0.992188, lr=0.025000, time_each_step=0.12s, eta=0:2:51\n",
      "2021-08-20 21:23:20 [INFO]\t[TRAIN] Epoch=4/10, Step=83/179, loss=0.879511, acc1=0.734375, acc5=0.976562, lr=0.025000, time_each_step=0.11s, eta=0:2:45\n",
      "2021-08-20 21:23:21 [INFO]\t[TRAIN] Epoch=4/10, Step=93/179, loss=0.950154, acc1=0.656250, acc5=0.968750, lr=0.025000, time_each_step=0.11s, eta=0:2:42\n",
      "2021-08-20 21:23:23 [INFO]\t[TRAIN] Epoch=4/10, Step=103/179, loss=0.887411, acc1=0.687500, acc5=1.000000, lr=0.025000, time_each_step=0.11s, eta=0:2:45\n",
      "2021-08-20 21:23:24 [INFO]\t[TRAIN] Epoch=4/10, Step=113/179, loss=0.825441, acc1=0.695312, acc5=0.984375, lr=0.025000, time_each_step=0.11s, eta=0:2:42\n",
      "2021-08-20 21:23:25 [INFO]\t[TRAIN] Epoch=4/10, Step=123/179, loss=0.881810, acc1=0.687500, acc5=0.992188, lr=0.025000, time_each_step=0.11s, eta=0:2:39\n",
      "2021-08-20 21:23:26 [INFO]\t[TRAIN] Epoch=4/10, Step=133/179, loss=1.116710, acc1=0.546875, acc5=1.000000, lr=0.025000, time_each_step=0.12s, eta=0:2:42\n",
      "2021-08-20 21:23:27 [INFO]\t[TRAIN] Epoch=4/10, Step=143/179, loss=1.156693, acc1=0.578125, acc5=0.976562, lr=0.025000, time_each_step=0.12s, eta=0:2:45\n",
      "2021-08-20 21:23:28 [INFO]\t[TRAIN] Epoch=4/10, Step=153/179, loss=1.048496, acc1=0.656250, acc5=1.000000, lr=0.025000, time_each_step=0.12s, eta=0:2:46\n",
      "2021-08-20 21:23:29 [INFO]\t[TRAIN] Epoch=4/10, Step=163/179, loss=0.972965, acc1=0.664062, acc5=0.984375, lr=0.025000, time_each_step=0.11s, eta=0:2:34\n",
      "2021-08-20 21:23:31 [INFO]\t[TRAIN] Epoch=4/10, Step=173/179, loss=0.833505, acc1=0.656250, acc5=1.000000, lr=0.025000, time_each_step=0.11s, eta=0:2:37\n",
      "2021-08-20 21:23:31 [INFO]\t[TRAIN] Epoch 4 finished, loss=0.93118066, acc1=0.65755934, acc5=0.9873429 .\n",
      "2021-08-20 21:23:32 [INFO]\tStart to evaluate(total_samples=5741, total_steps=45)...\n",
      "2021-08-20 21:23:34 [INFO]\t[EVAL] Finished, Epoch=4, acc1=0.556347, acc5=0.982140 .\n",
      "2021-08-20 21:23:34 [INFO]\tCurrent evaluated best model on eval_dataset is epoch_3, acc1=0.5924805402755737\n",
      "2021-08-20 21:23:35 [INFO]\tModel saved in output/ResNet101_vd_ssld/epoch_4.\n",
      "2021-08-20 21:23:36 [INFO]\t[TRAIN] Epoch=5/10, Step=4/179, loss=0.933708, acc1=0.601562, acc5=0.984375, lr=0.002500, time_each_step=0.16s, eta=0:3:2\n",
      "2021-08-20 21:23:37 [INFO]\t[TRAIN] Epoch=5/10, Step=14/179, loss=0.792779, acc1=0.726562, acc5=0.984375, lr=0.002500, time_each_step=0.12s, eta=0:2:20\n",
      "2021-08-20 21:23:39 [INFO]\t[TRAIN] Epoch=5/10, Step=24/179, loss=0.896866, acc1=0.664062, acc5=1.000000, lr=0.002500, time_each_step=0.12s, eta=0:2:26\n",
      "2021-08-20 21:23:40 [INFO]\t[TRAIN] Epoch=5/10, Step=34/179, loss=0.951132, acc1=0.585938, acc5=0.976562, lr=0.002500, time_each_step=0.11s, eta=0:2:12\n",
      "2021-08-20 21:23:41 [INFO]\t[TRAIN] Epoch=5/10, Step=44/179, loss=0.925218, acc1=0.710938, acc5=0.984375, lr=0.002500, time_each_step=0.11s, eta=0:2:12\n",
      "2021-08-20 21:23:42 [INFO]\t[TRAIN] Epoch=5/10, Step=54/179, loss=0.795079, acc1=0.726562, acc5=0.984375, lr=0.002500, time_each_step=0.12s, eta=0:2:18\n",
      "2021-08-20 21:23:43 [INFO]\t[TRAIN] Epoch=5/10, Step=64/179, loss=0.808479, acc1=0.734375, acc5=1.000000, lr=0.002500, time_each_step=0.11s, eta=0:2:9\n",
      "2021-08-20 21:23:44 [INFO]\t[TRAIN] Epoch=5/10, Step=74/179, loss=0.739804, acc1=0.703125, acc5=1.000000, lr=0.002500, time_each_step=0.12s, eta=0:2:10\n",
      "2021-08-20 21:23:45 [INFO]\t[TRAIN] Epoch=5/10, Step=84/179, loss=0.606498, acc1=0.750000, acc5=1.000000, lr=0.002500, time_each_step=0.11s, eta=0:2:8\n",
      "2021-08-20 21:23:47 [INFO]\t[TRAIN] Epoch=5/10, Step=94/179, loss=0.813848, acc1=0.671875, acc5=0.992188, lr=0.002500, time_each_step=0.11s, eta=0:2:4\n",
      "2021-08-20 21:23:48 [INFO]\t[TRAIN] Epoch=5/10, Step=104/179, loss=0.919822, acc1=0.648438, acc5=0.984375, lr=0.002500, time_each_step=0.11s, eta=0:2:4\n",
      "2021-08-20 21:23:49 [INFO]\t[TRAIN] Epoch=5/10, Step=114/179, loss=0.763539, acc1=0.703125, acc5=0.984375, lr=0.002500, time_each_step=0.11s, eta=0:2:1\n",
      "2021-08-20 21:23:50 [INFO]\t[TRAIN] Epoch=5/10, Step=124/179, loss=0.853494, acc1=0.648438, acc5=1.000000, lr=0.002500, time_each_step=0.13s, eta=0:2:14\n",
      "2021-08-20 21:23:51 [INFO]\t[TRAIN] Epoch=5/10, Step=134/179, loss=0.735363, acc1=0.679688, acc5=1.000000, lr=0.002500, time_each_step=0.13s, eta=0:2:13\n",
      "2021-08-20 21:23:53 [INFO]\t[TRAIN] Epoch=5/10, Step=144/179, loss=0.745295, acc1=0.734375, acc5=0.992188, lr=0.002500, time_each_step=0.13s, eta=0:2:16\n",
      "2021-08-20 21:23:54 [INFO]\t[TRAIN] Epoch=5/10, Step=154/179, loss=0.806313, acc1=0.718750, acc5=0.992188, lr=0.002500, time_each_step=0.12s, eta=0:2:3\n",
      "2021-08-20 21:23:55 [INFO]\t[TRAIN] Epoch=5/10, Step=164/179, loss=0.891307, acc1=0.640625, acc5=0.992188, lr=0.002500, time_each_step=0.11s, eta=0:1:57\n",
      "2021-08-20 21:23:56 [INFO]\t[TRAIN] Epoch=5/10, Step=174/179, loss=0.721393, acc1=0.742188, acc5=1.000000, lr=0.002500, time_each_step=0.12s, eta=0:1:59\n",
      "2021-08-20 21:23:57 [INFO]\t[TRAIN] Epoch 5 finished, loss=0.8413357, acc1=0.68776184, acc5=0.9904853 .\n",
      "2021-08-20 21:23:57 [INFO]\tStart to evaluate(total_samples=5741, total_steps=45)...\n",
      "2021-08-20 21:23:59 [INFO]\t[EVAL] Finished, Epoch=5, acc1=0.631029, acc5=0.987583 .\n",
      "2021-08-20 21:24:02 [INFO]\tModel saved in output/ResNet101_vd_ssld/best_model.\n",
      "2021-08-20 21:24:02 [INFO]\tCurrent evaluated best model on eval_dataset is epoch_5, acc1=0.6310285925865173\n",
      "2021-08-20 21:24:03 [INFO]\tModel saved in output/ResNet101_vd_ssld/epoch_5.\n",
      "2021-08-20 21:24:04 [INFO]\t[TRAIN] Epoch=6/10, Step=5/179, loss=0.840943, acc1=0.664062, acc5=0.968750, lr=0.002500, time_each_step=0.16s, eta=0:2:43\n",
      "2021-08-20 21:24:05 [INFO]\t[TRAIN] Epoch=6/10, Step=15/179, loss=0.724249, acc1=0.726562, acc5=1.000000, lr=0.002500, time_each_step=0.14s, eta=0:2:30\n",
      "2021-08-20 21:24:07 [INFO]\t[TRAIN] Epoch=6/10, Step=25/179, loss=0.590090, acc1=0.796875, acc5=0.992188, lr=0.002500, time_each_step=0.13s, eta=0:2:16\n",
      "2021-08-20 21:24:08 [INFO]\t[TRAIN] Epoch=6/10, Step=35/179, loss=0.816751, acc1=0.703125, acc5=0.992188, lr=0.002500, time_each_step=0.12s, eta=0:2:3\n",
      "2021-08-20 21:24:09 [INFO]\t[TRAIN] Epoch=6/10, Step=45/179, loss=0.788852, acc1=0.765625, acc5=0.992188, lr=0.002500, time_each_step=0.11s, eta=0:1:59\n",
      "2021-08-20 21:24:10 [INFO]\t[TRAIN] Epoch=6/10, Step=55/179, loss=0.837755, acc1=0.703125, acc5=0.976562, lr=0.002500, time_each_step=0.11s, eta=0:1:55\n",
      "2021-08-20 21:24:11 [INFO]\t[TRAIN] Epoch=6/10, Step=65/179, loss=0.722926, acc1=0.664062, acc5=1.000000, lr=0.002500, time_each_step=0.11s, eta=0:1:55\n",
      "2021-08-20 21:24:12 [INFO]\t[TRAIN] Epoch=6/10, Step=75/179, loss=0.777257, acc1=0.718750, acc5=1.000000, lr=0.002500, time_each_step=0.11s, eta=0:1:53\n",
      "2021-08-20 21:24:14 [INFO]\t[TRAIN] Epoch=6/10, Step=85/179, loss=0.709560, acc1=0.820312, acc5=0.968750, lr=0.002500, time_each_step=0.12s, eta=0:1:57\n",
      "2021-08-20 21:24:15 [INFO]\t[TRAIN] Epoch=6/10, Step=95/179, loss=0.807899, acc1=0.687500, acc5=0.992188, lr=0.002500, time_each_step=0.12s, eta=0:2:0\n",
      "2021-08-20 21:24:16 [INFO]\t[TRAIN] Epoch=6/10, Step=105/179, loss=0.764015, acc1=0.710938, acc5=1.000000, lr=0.002500, time_each_step=0.12s, eta=0:1:54\n",
      "2021-08-20 21:24:17 [INFO]\t[TRAIN] Epoch=6/10, Step=115/179, loss=0.761265, acc1=0.695312, acc5=1.000000, lr=0.002500, time_each_step=0.11s, eta=0:1:51\n",
      "2021-08-20 21:24:18 [INFO]\t[TRAIN] Epoch=6/10, Step=125/179, loss=0.784187, acc1=0.710938, acc5=0.992188, lr=0.002500, time_each_step=0.11s, eta=0:1:47\n",
      "2021-08-20 21:24:19 [INFO]\t[TRAIN] Epoch=6/10, Step=135/179, loss=0.700672, acc1=0.742188, acc5=0.992188, lr=0.002500, time_each_step=0.12s, eta=0:1:51\n",
      "2021-08-20 21:24:20 [INFO]\t[TRAIN] Epoch=6/10, Step=145/179, loss=0.764838, acc1=0.734375, acc5=1.000000, lr=0.002500, time_each_step=0.11s, eta=0:1:46\n",
      "2021-08-20 21:24:22 [INFO]\t[TRAIN] Epoch=6/10, Step=155/179, loss=0.638609, acc1=0.781250, acc5=1.000000, lr=0.002500, time_each_step=0.12s, eta=0:1:51\n",
      "2021-08-20 21:24:23 [INFO]\t[TRAIN] Epoch=6/10, Step=165/179, loss=0.723184, acc1=0.734375, acc5=0.992188, lr=0.002500, time_each_step=0.11s, eta=0:1:43\n",
      "2021-08-20 21:24:24 [INFO]\t[TRAIN] Epoch=6/10, Step=175/179, loss=0.745707, acc1=0.726562, acc5=0.992188, lr=0.002500, time_each_step=0.11s, eta=0:1:42\n",
      "2021-08-20 21:24:24 [INFO]\t[TRAIN] Epoch 6 finished, loss=0.74549276, acc1=0.72761, acc5=0.99319136 .\n",
      "2021-08-20 21:24:25 [INFO]\tStart to evaluate(total_samples=5741, total_steps=45)...\n",
      "2021-08-20 21:24:27 [INFO]\t[EVAL] Finished, Epoch=6, acc1=0.640042, acc5=0.987930 .\n",
      "2021-08-20 21:24:30 [INFO]\tModel saved in output/ResNet101_vd_ssld/best_model.\n",
      "2021-08-20 21:24:30 [INFO]\tCurrent evaluated best model on eval_dataset is epoch_6, acc1=0.6400420069694519\n",
      "2021-08-20 21:24:31 [INFO]\tModel saved in output/ResNet101_vd_ssld/epoch_6.\n",
      "2021-08-20 21:24:32 [INFO]\t[TRAIN] Epoch=7/10, Step=6/179, loss=0.642374, acc1=0.742188, acc5=0.992188, lr=0.000250, time_each_step=0.15s, eta=0:2:3\n",
      "2021-08-20 21:24:33 [INFO]\t[TRAIN] Epoch=7/10, Step=16/179, loss=0.702768, acc1=0.765625, acc5=0.984375, lr=0.000250, time_each_step=0.11s, eta=0:1:32\n",
      "2021-08-20 21:24:34 [INFO]\t[TRAIN] Epoch=7/10, Step=26/179, loss=0.666156, acc1=0.765625, acc5=1.000000, lr=0.000250, time_each_step=0.11s, eta=0:1:32\n",
      "2021-08-20 21:24:35 [INFO]\t[TRAIN] Epoch=7/10, Step=36/179, loss=0.769560, acc1=0.734375, acc5=1.000000, lr=0.000250, time_each_step=0.11s, eta=0:1:30\n",
      "2021-08-20 21:24:36 [INFO]\t[TRAIN] Epoch=7/10, Step=46/179, loss=0.606259, acc1=0.789062, acc5=1.000000, lr=0.000250, time_each_step=0.11s, eta=0:1:31\n",
      "2021-08-20 21:24:38 [INFO]\t[TRAIN] Epoch=7/10, Step=56/179, loss=0.711606, acc1=0.718750, acc5=0.992188, lr=0.000250, time_each_step=0.11s, eta=0:1:30\n",
      "2021-08-20 21:24:39 [INFO]\t[TRAIN] Epoch=7/10, Step=66/179, loss=0.625981, acc1=0.789062, acc5=0.992188, lr=0.000250, time_each_step=0.11s, eta=0:1:29\n",
      "2021-08-20 21:24:40 [INFO]\t[TRAIN] Epoch=7/10, Step=76/179, loss=0.673076, acc1=0.750000, acc5=1.000000, lr=0.000250, time_each_step=0.12s, eta=0:1:36\n",
      "2021-08-20 21:24:41 [INFO]\t[TRAIN] Epoch=7/10, Step=86/179, loss=0.756717, acc1=0.796875, acc5=0.992188, lr=0.000250, time_each_step=0.12s, eta=0:1:36\n",
      "2021-08-20 21:24:42 [INFO]\t[TRAIN] Epoch=7/10, Step=96/179, loss=0.784159, acc1=0.750000, acc5=0.992188, lr=0.000250, time_each_step=0.11s, eta=0:1:28\n",
      "2021-08-20 21:24:43 [INFO]\t[TRAIN] Epoch=7/10, Step=106/179, loss=0.593415, acc1=0.757812, acc5=1.000000, lr=0.000250, time_each_step=0.12s, eta=0:1:28\n",
      "2021-08-20 21:24:45 [INFO]\t[TRAIN] Epoch=7/10, Step=116/179, loss=0.667990, acc1=0.742188, acc5=1.000000, lr=0.000250, time_each_step=0.11s, eta=0:1:26\n",
      "2021-08-20 21:24:46 [INFO]\t[TRAIN] Epoch=7/10, Step=126/179, loss=0.913525, acc1=0.679688, acc5=0.968750, lr=0.000250, time_each_step=0.11s, eta=0:1:24\n",
      "2021-08-20 21:24:47 [INFO]\t[TRAIN] Epoch=7/10, Step=136/179, loss=0.735223, acc1=0.710938, acc5=0.992188, lr=0.000250, time_each_step=0.11s, eta=0:1:22\n",
      "2021-08-20 21:24:48 [INFO]\t[TRAIN] Epoch=7/10, Step=146/179, loss=0.674557, acc1=0.765625, acc5=1.000000, lr=0.000250, time_each_step=0.11s, eta=0:1:21\n",
      "2021-08-20 21:24:49 [INFO]\t[TRAIN] Epoch=7/10, Step=156/179, loss=0.589322, acc1=0.781250, acc5=1.000000, lr=0.000250, time_each_step=0.11s, eta=0:1:21\n",
      "2021-08-20 21:24:50 [INFO]\t[TRAIN] Epoch=7/10, Step=166/179, loss=0.584919, acc1=0.773438, acc5=1.000000, lr=0.000250, time_each_step=0.11s, eta=0:1:18\n",
      "2021-08-20 21:24:51 [INFO]\t[TRAIN] Epoch=7/10, Step=176/179, loss=0.667412, acc1=0.750000, acc5=1.000000, lr=0.000250, time_each_step=0.11s, eta=0:1:18\n",
      "2021-08-20 21:24:52 [INFO]\t[TRAIN] Epoch 7 finished, loss=0.6733608, acc1=0.75680864, acc5=0.9947189 .\n",
      "2021-08-20 21:24:52 [INFO]\tStart to evaluate(total_samples=5741, total_steps=45)...\n",
      "2021-08-20 21:24:55 [INFO]\t[EVAL] Finished, Epoch=7, acc1=0.642148, acc5=0.987583 .\n",
      "2021-08-20 21:24:58 [INFO]\tModel saved in output/ResNet101_vd_ssld/best_model.\n",
      "2021-08-20 21:24:58 [INFO]\tCurrent evaluated best model on eval_dataset is epoch_7, acc1=0.6421477198600769\n",
      "2021-08-20 21:24:58 [INFO]\tModel saved in output/ResNet101_vd_ssld/epoch_7.\n",
      "2021-08-20 21:24:59 [INFO]\t[TRAIN] Epoch=8/10, Step=7/179, loss=0.735012, acc1=0.726562, acc5=1.000000, lr=0.000250, time_each_step=0.15s, eta=0:1:32\n",
      "2021-08-20 21:25:00 [INFO]\t[TRAIN] Epoch=8/10, Step=17/179, loss=0.627422, acc1=0.781250, acc5=0.992188, lr=0.000250, time_each_step=0.11s, eta=0:1:8\n",
      "2021-08-20 21:25:02 [INFO]\t[TRAIN] Epoch=8/10, Step=27/179, loss=0.647729, acc1=0.812500, acc5=1.000000, lr=0.000250, time_each_step=0.11s, eta=0:1:7\n",
      "2021-08-20 21:25:03 [INFO]\t[TRAIN] Epoch=8/10, Step=37/179, loss=0.550548, acc1=0.820312, acc5=0.968750, lr=0.000250, time_each_step=0.11s, eta=0:1:4\n",
      "2021-08-20 21:25:04 [INFO]\t[TRAIN] Epoch=8/10, Step=47/179, loss=0.694739, acc1=0.742188, acc5=1.000000, lr=0.000250, time_each_step=0.11s, eta=0:1:5\n",
      "2021-08-20 21:25:05 [INFO]\t[TRAIN] Epoch=8/10, Step=57/179, loss=0.893885, acc1=0.695312, acc5=1.000000, lr=0.000250, time_each_step=0.11s, eta=0:1:4\n",
      "2021-08-20 21:25:06 [INFO]\t[TRAIN] Epoch=8/10, Step=67/179, loss=0.698776, acc1=0.757812, acc5=0.984375, lr=0.000250, time_each_step=0.11s, eta=0:1:3\n",
      "2021-08-20 21:25:07 [INFO]\t[TRAIN] Epoch=8/10, Step=77/179, loss=0.563019, acc1=0.765625, acc5=1.000000, lr=0.000250, time_each_step=0.12s, eta=0:1:5\n",
      "2021-08-20 21:25:08 [INFO]\t[TRAIN] Epoch=8/10, Step=87/179, loss=0.700021, acc1=0.765625, acc5=1.000000, lr=0.000250, time_each_step=0.11s, eta=0:1:1\n",
      "2021-08-20 21:25:09 [INFO]\t[TRAIN] Epoch=8/10, Step=97/179, loss=0.601918, acc1=0.812500, acc5=0.992188, lr=0.000250, time_each_step=0.12s, eta=0:1:3\n",
      "2021-08-20 21:25:11 [INFO]\t[TRAIN] Epoch=8/10, Step=107/179, loss=0.777790, acc1=0.750000, acc5=1.000000, lr=0.000250, time_each_step=0.12s, eta=0:1:4\n",
      "2021-08-20 21:25:12 [INFO]\t[TRAIN] Epoch=8/10, Step=117/179, loss=0.771938, acc1=0.687500, acc5=1.000000, lr=0.000250, time_each_step=0.12s, eta=0:1:1\n",
      "2021-08-20 21:25:13 [INFO]\t[TRAIN] Epoch=8/10, Step=127/179, loss=0.548767, acc1=0.835938, acc5=1.000000, lr=0.000250, time_each_step=0.12s, eta=0:1:0\n",
      "2021-08-20 21:25:14 [INFO]\t[TRAIN] Epoch=8/10, Step=137/179, loss=0.599571, acc1=0.750000, acc5=1.000000, lr=0.000250, time_each_step=0.12s, eta=0:0:59\n",
      "2021-08-20 21:25:15 [INFO]\t[TRAIN] Epoch=8/10, Step=147/179, loss=0.667656, acc1=0.750000, acc5=0.992188, lr=0.000250, time_each_step=0.11s, eta=0:0:55\n",
      "2021-08-20 21:25:16 [INFO]\t[TRAIN] Epoch=8/10, Step=157/179, loss=0.644512, acc1=0.718750, acc5=0.992188, lr=0.000250, time_each_step=0.12s, eta=0:0:56\n",
      "2021-08-20 21:25:18 [INFO]\t[TRAIN] Epoch=8/10, Step=167/179, loss=0.856499, acc1=0.703125, acc5=0.984375, lr=0.000250, time_each_step=0.11s, eta=0:0:54\n",
      "2021-08-20 21:25:19 [INFO]\t[TRAIN] Epoch=8/10, Step=177/179, loss=0.625536, acc1=0.781250, acc5=0.992188, lr=0.000250, time_each_step=0.11s, eta=0:0:52\n",
      "2021-08-20 21:25:19 [INFO]\t[TRAIN] Epoch 8 finished, loss=0.65894127, acc1=0.7650576, acc5=0.9945443 .\n",
      "2021-08-20 21:25:19 [INFO]\tStart to evaluate(total_samples=5741, total_steps=45)...\n",
      "2021-08-20 21:25:22 [INFO]\t[EVAL] Finished, Epoch=8, acc1=0.638532, acc5=0.987756 .\n",
      "2021-08-20 21:25:22 [INFO]\tCurrent evaluated best model on eval_dataset is epoch_7, acc1=0.6421477198600769\n",
      "2021-08-20 21:25:23 [INFO]\tModel saved in output/ResNet101_vd_ssld/epoch_8.\n",
      "2021-08-20 21:25:24 [INFO]\t[TRAIN] Epoch=9/10, Step=8/179, loss=0.549698, acc1=0.828125, acc5=1.000000, lr=0.000025, time_each_step=0.15s, eta=0:0:54\n",
      "2021-08-20 21:25:25 [INFO]\t[TRAIN] Epoch=9/10, Step=18/179, loss=0.737783, acc1=0.742188, acc5=0.984375, lr=0.000025, time_each_step=0.11s, eta=0:0:41\n",
      "2021-08-20 21:25:26 [INFO]\t[TRAIN] Epoch=9/10, Step=28/179, loss=0.759060, acc1=0.734375, acc5=0.984375, lr=0.000025, time_each_step=0.11s, eta=0:0:38\n",
      "2021-08-20 21:25:27 [INFO]\t[TRAIN] Epoch=9/10, Step=38/179, loss=0.615662, acc1=0.765625, acc5=1.000000, lr=0.000025, time_each_step=0.11s, eta=0:0:38\n",
      "2021-08-20 21:25:29 [INFO]\t[TRAIN] Epoch=9/10, Step=48/179, loss=0.584364, acc1=0.781250, acc5=0.992188, lr=0.000025, time_each_step=0.11s, eta=0:0:36\n",
      "2021-08-20 21:25:30 [INFO]\t[TRAIN] Epoch=9/10, Step=58/179, loss=0.565391, acc1=0.812500, acc5=0.992188, lr=0.000025, time_each_step=0.11s, eta=0:0:35\n",
      "2021-08-20 21:25:31 [INFO]\t[TRAIN] Epoch=9/10, Step=68/179, loss=0.718878, acc1=0.726562, acc5=0.984375, lr=0.000025, time_each_step=0.11s, eta=0:0:34\n",
      "2021-08-20 21:25:32 [INFO]\t[TRAIN] Epoch=9/10, Step=78/179, loss=0.735456, acc1=0.734375, acc5=0.984375, lr=0.000025, time_each_step=0.11s, eta=0:0:33\n",
      "2021-08-20 21:25:33 [INFO]\t[TRAIN] Epoch=9/10, Step=88/179, loss=0.641593, acc1=0.765625, acc5=0.992188, lr=0.000025, time_each_step=0.11s, eta=0:0:33\n",
      "2021-08-20 21:25:34 [INFO]\t[TRAIN] Epoch=9/10, Step=98/179, loss=0.649772, acc1=0.765625, acc5=1.000000, lr=0.000025, time_each_step=0.11s, eta=0:0:32\n",
      "2021-08-20 21:25:35 [INFO]\t[TRAIN] Epoch=9/10, Step=108/179, loss=0.675264, acc1=0.718750, acc5=0.984375, lr=0.000025, time_each_step=0.11s, eta=0:0:30\n",
      "2021-08-20 21:25:36 [INFO]\t[TRAIN] Epoch=9/10, Step=118/179, loss=0.747939, acc1=0.718750, acc5=0.992188, lr=0.000025, time_each_step=0.11s, eta=0:0:29\n",
      "2021-08-20 21:25:37 [INFO]\t[TRAIN] Epoch=9/10, Step=128/179, loss=0.617539, acc1=0.812500, acc5=1.000000, lr=0.000025, time_each_step=0.11s, eta=0:0:29\n",
      "2021-08-20 21:25:39 [INFO]\t[TRAIN] Epoch=9/10, Step=138/179, loss=0.542562, acc1=0.796875, acc5=1.000000, lr=0.000025, time_each_step=0.11s, eta=0:0:27\n",
      "2021-08-20 21:25:40 [INFO]\t[TRAIN] Epoch=9/10, Step=148/179, loss=0.601056, acc1=0.835938, acc5=1.000000, lr=0.000025, time_each_step=0.11s, eta=0:0:26\n",
      "2021-08-20 21:25:41 [INFO]\t[TRAIN] Epoch=9/10, Step=158/179, loss=0.538871, acc1=0.828125, acc5=0.992188, lr=0.000025, time_each_step=0.11s, eta=0:0:25\n",
      "2021-08-20 21:25:42 [INFO]\t[TRAIN] Epoch=9/10, Step=168/179, loss=0.655370, acc1=0.750000, acc5=0.984375, lr=0.000025, time_each_step=0.12s, eta=0:0:25\n",
      "2021-08-20 21:25:43 [INFO]\t[TRAIN] Epoch=9/10, Step=178/179, loss=0.599732, acc1=0.750000, acc5=1.000000, lr=0.000025, time_each_step=0.11s, eta=0:0:22\n",
      "2021-08-20 21:25:43 [INFO]\t[TRAIN] Epoch 9 finished, loss=0.6508751, acc1=0.7645775, acc5=0.99415153 .\n",
      "2021-08-20 21:25:43 [INFO]\tStart to evaluate(total_samples=5741, total_steps=45)...\n",
      "2021-08-20 21:25:46 [INFO]\t[EVAL] Finished, Epoch=9, acc1=0.638910, acc5=0.987236 .\n",
      "2021-08-20 21:25:46 [INFO]\tCurrent evaluated best model on eval_dataset is epoch_7, acc1=0.6421477198600769\n",
      "2021-08-20 21:25:47 [INFO]\tModel saved in output/ResNet101_vd_ssld/epoch_9.\n",
      "2021-08-20 21:25:48 [INFO]\t[TRAIN] Epoch=10/10, Step=9/179, loss=0.650744, acc1=0.765625, acc5=1.000000, lr=0.000025, time_each_step=0.15s, eta=0:0:26\n",
      "2021-08-20 21:25:49 [INFO]\t[TRAIN] Epoch=10/10, Step=19/179, loss=0.666397, acc1=0.773438, acc5=1.000000, lr=0.000025, time_each_step=0.11s, eta=0:0:17\n",
      "2021-08-20 21:25:50 [INFO]\t[TRAIN] Epoch=10/10, Step=29/179, loss=0.812114, acc1=0.718750, acc5=0.992188, lr=0.000025, time_each_step=0.12s, eta=0:0:17\n",
      "2021-08-20 21:25:52 [INFO]\t[TRAIN] Epoch=10/10, Step=39/179, loss=0.541083, acc1=0.757812, acc5=1.000000, lr=0.000025, time_each_step=0.12s, eta=0:0:16\n",
      "2021-08-20 21:25:53 [INFO]\t[TRAIN] Epoch=10/10, Step=49/179, loss=0.783487, acc1=0.742188, acc5=0.992188, lr=0.000025, time_each_step=0.18s, eta=0:0:23\n",
      "2021-08-20 21:25:55 [INFO]\t[TRAIN] Epoch=10/10, Step=59/179, loss=0.730679, acc1=0.742188, acc5=1.000000, lr=0.000025, time_each_step=0.13s, eta=0:0:15\n",
      "2021-08-20 21:25:56 [INFO]\t[TRAIN] Epoch=10/10, Step=69/179, loss=0.649550, acc1=0.718750, acc5=1.000000, lr=0.000025, time_each_step=0.12s, eta=0:0:13\n",
      "2021-08-20 21:25:57 [INFO]\t[TRAIN] Epoch=10/10, Step=79/179, loss=0.788900, acc1=0.726562, acc5=0.984375, lr=0.000025, time_each_step=0.11s, eta=0:0:11\n",
      "2021-08-20 21:25:58 [INFO]\t[TRAIN] Epoch=10/10, Step=89/179, loss=0.609641, acc1=0.750000, acc5=0.992188, lr=0.000025, time_each_step=0.11s, eta=0:0:10\n",
      "2021-08-20 21:25:59 [INFO]\t[TRAIN] Epoch=10/10, Step=99/179, loss=0.543391, acc1=0.812500, acc5=0.992188, lr=0.000025, time_each_step=0.11s, eta=0:0:9\n",
      "2021-08-20 21:26:00 [INFO]\t[TRAIN] Epoch=10/10, Step=109/179, loss=0.712760, acc1=0.750000, acc5=0.984375, lr=0.000025, time_each_step=0.11s, eta=0:0:7\n",
      "2021-08-20 21:26:01 [INFO]\t[TRAIN] Epoch=10/10, Step=119/179, loss=0.538344, acc1=0.773438, acc5=0.992188, lr=0.000025, time_each_step=0.11s, eta=0:0:6\n",
      "2021-08-20 21:26:03 [INFO]\t[TRAIN] Epoch=10/10, Step=129/179, loss=0.583697, acc1=0.789062, acc5=1.000000, lr=0.000025, time_each_step=0.11s, eta=0:0:5\n",
      "2021-08-20 21:26:04 [INFO]\t[TRAIN] Epoch=10/10, Step=139/179, loss=0.788825, acc1=0.718750, acc5=1.000000, lr=0.000025, time_each_step=0.11s, eta=0:0:4\n",
      "2021-08-20 21:26:05 [INFO]\t[TRAIN] Epoch=10/10, Step=149/179, loss=0.702839, acc1=0.757812, acc5=1.000000, lr=0.000025, time_each_step=0.12s, eta=0:0:3\n",
      "2021-08-20 21:26:06 [INFO]\t[TRAIN] Epoch=10/10, Step=159/179, loss=0.671941, acc1=0.750000, acc5=1.000000, lr=0.000025, time_each_step=0.11s, eta=0:0:2\n",
      "2021-08-20 21:26:07 [INFO]\t[TRAIN] Epoch=10/10, Step=169/179, loss=0.684826, acc1=0.750000, acc5=1.000000, lr=0.000025, time_each_step=0.11s, eta=0:0:1\n",
      "2021-08-20 21:26:08 [INFO]\t[TRAIN] Epoch=10/10, Step=179/179, loss=0.577827, acc1=0.804688, acc5=1.000000, lr=0.000025, time_each_step=0.11s, eta=0:0:0\n",
      "2021-08-20 21:26:08 [INFO]\t[TRAIN] Epoch 10 finished, loss=0.6509207, acc1=0.7661051, acc5=0.9949371 .\n",
      "2021-08-20 21:26:09 [INFO]\tStart to evaluate(total_samples=5741, total_steps=45)...\n",
      "2021-08-20 21:26:11 [INFO]\t[EVAL] Finished, Epoch=10, acc1=0.640585, acc5=0.987409 .\n",
      "2021-08-20 21:26:11 [INFO]\tCurrent evaluated best model on eval_dataset is epoch_7, acc1=0.6421477198600769\n",
      "2021-08-20 21:26:12 [INFO]\tModel saved in output/ResNet101_vd_ssld/epoch_10.\n"
     ]
    }
   ],
   "source": [
    "num_classes = len(train_dataset.labels)\r\n",
    "model = pdx.cls.ResNet101_vd_ssld(num_classes=num_classes)\r\n",
    "model.train(num_epochs=10,\r\n",
    "            train_dataset=train_dataset,\r\n",
    "            train_batch_size=128,\r\n",
    "            eval_dataset=eval_dataset,\r\n",
    "            lr_decay_epochs=[4, 6, 8],\r\n",
    "            save_interval_epochs=1,\r\n",
    "            learning_rate=0.025,\r\n",
    "            save_dir='output/ResNet101_vd_ssld',\r\n",
    "            use_vdl=True)"
   ]
  },
  {
   "cell_type": "code",
   "execution_count": 32,
   "metadata": {
    "collapsed": false
   },
   "outputs": [
    {
     "name": "stdout",
     "output_type": "stream",
     "text": [
      "2021-08-20 21:31:02 [INFO]\tModel[ResNet101_vd_ssld] loaded.\n"
     ]
    },
    {
     "name": "stderr",
     "output_type": "stream",
     "text": [
      "/opt/conda/envs/python35-paddle120-env/lib/python3.7/site-packages/paddle/tensor/creation.py:125: DeprecationWarning: `np.object` is a deprecated alias for the builtin `object`. To silence this warning, use `object` by itself. Doing this will not modify any behavior and is safe. \n",
      "Deprecated in NumPy 1.20; for more details and guidance: https://numpy.org/devdocs/release/1.20.0-notes.html#deprecations\n",
      "  if data.dtype == np.object:\n"
     ]
    },
    {
     "ename": "KeyboardInterrupt",
     "evalue": "",
     "output_type": "error",
     "traceback": [
      "\u001b[0;31m---------------------------------------------------------------------------\u001b[0m",
      "\u001b[0;31mKeyboardInterrupt\u001b[0m                         Traceback (most recent call last)",
      "\u001b[0;32m<ipython-input-32-d1e646ce4fb9>\u001b[0m in \u001b[0;36m<module>\u001b[0;34m\u001b[0m\n\u001b[1;32m      4\u001b[0m \u001b[0;32mfor\u001b[0m \u001b[0mindex\u001b[0m\u001b[0;34m,\u001b[0m \u001b[0mitem\u001b[0m \u001b[0;32min\u001b[0m \u001b[0mtest\u001b[0m\u001b[0;34m.\u001b[0m\u001b[0miterrows\u001b[0m\u001b[0;34m(\u001b[0m\u001b[0;34m)\u001b[0m\u001b[0;34m:\u001b[0m\u001b[0;34m\u001b[0m\u001b[0;34m\u001b[0m\u001b[0m\n\u001b[1;32m      5\u001b[0m     \u001b[0mimage_name\u001b[0m \u001b[0;34m=\u001b[0m \u001b[0mos\u001b[0m\u001b[0;34m.\u001b[0m\u001b[0mpath\u001b[0m\u001b[0;34m.\u001b[0m\u001b[0mjoin\u001b[0m\u001b[0;34m(\u001b[0m\u001b[0;34m'work/test'\u001b[0m\u001b[0;34m,\u001b[0m \u001b[0mitem\u001b[0m\u001b[0;34m[\u001b[0m\u001b[0;34m'name'\u001b[0m\u001b[0;34m]\u001b[0m\u001b[0;34m)\u001b[0m\u001b[0;34m\u001b[0m\u001b[0;34m\u001b[0m\u001b[0m\n\u001b[0;32m----> 6\u001b[0;31m     \u001b[0mlabel\u001b[0m \u001b[0;34m=\u001b[0m \u001b[0mmodel\u001b[0m\u001b[0;34m.\u001b[0m\u001b[0mpredict\u001b[0m\u001b[0;34m(\u001b[0m\u001b[0mimage_name\u001b[0m\u001b[0;34m)\u001b[0m\u001b[0;34m\u001b[0m\u001b[0;34m\u001b[0m\u001b[0m\n\u001b[0m\u001b[1;32m      7\u001b[0m     \u001b[0mlabels\u001b[0m\u001b[0;34m.\u001b[0m\u001b[0mappend\u001b[0m\u001b[0;34m(\u001b[0m\u001b[0mlabel\u001b[0m\u001b[0;34m)\u001b[0m\u001b[0;34m\u001b[0m\u001b[0;34m\u001b[0m\u001b[0m\n\u001b[1;32m      8\u001b[0m \u001b[0mprint\u001b[0m\u001b[0;34m(\u001b[0m\u001b[0;34m\"Predict Done:\"\u001b[0m\u001b[0;34m,\u001b[0m \u001b[0mlen\u001b[0m\u001b[0;34m(\u001b[0m\u001b[0mlabels\u001b[0m\u001b[0;34m)\u001b[0m\u001b[0;34m)\u001b[0m\u001b[0;34m\u001b[0m\u001b[0;34m\u001b[0m\u001b[0m\n",
      "\u001b[0;32m/opt/conda/envs/python35-paddle120-env/lib/python3.7/site-packages/paddlex/cv/models/classifier.py\u001b[0m in \u001b[0;36mpredict\u001b[0;34m(self, img_file, transforms, topk)\u001b[0m\n\u001b[1;32m    434\u001b[0m             \u001b[0mimages\u001b[0m \u001b[0;34m=\u001b[0m \u001b[0mimg_file\u001b[0m\u001b[0;34m\u001b[0m\u001b[0;34m\u001b[0m\u001b[0m\n\u001b[1;32m    435\u001b[0m         \u001b[0mim\u001b[0m \u001b[0;34m=\u001b[0m \u001b[0mself\u001b[0m\u001b[0;34m.\u001b[0m\u001b[0m_preprocess\u001b[0m\u001b[0;34m(\u001b[0m\u001b[0mimages\u001b[0m\u001b[0;34m,\u001b[0m \u001b[0mtransforms\u001b[0m\u001b[0;34m,\u001b[0m \u001b[0mself\u001b[0m\u001b[0;34m.\u001b[0m\u001b[0mmodel_type\u001b[0m\u001b[0;34m)\u001b[0m\u001b[0;34m\u001b[0m\u001b[0;34m\u001b[0m\u001b[0m\n\u001b[0;32m--> 436\u001b[0;31m         \u001b[0mself\u001b[0m\u001b[0;34m.\u001b[0m\u001b[0mnet\u001b[0m\u001b[0;34m.\u001b[0m\u001b[0meval\u001b[0m\u001b[0;34m(\u001b[0m\u001b[0;34m)\u001b[0m\u001b[0;34m\u001b[0m\u001b[0;34m\u001b[0m\u001b[0m\n\u001b[0m\u001b[1;32m    437\u001b[0m         \u001b[0;32mwith\u001b[0m \u001b[0mpaddle\u001b[0m\u001b[0;34m.\u001b[0m\u001b[0mno_grad\u001b[0m\u001b[0;34m(\u001b[0m\u001b[0;34m)\u001b[0m\u001b[0;34m:\u001b[0m\u001b[0;34m\u001b[0m\u001b[0;34m\u001b[0m\u001b[0m\n\u001b[1;32m    438\u001b[0m             \u001b[0moutputs\u001b[0m \u001b[0;34m=\u001b[0m \u001b[0mself\u001b[0m\u001b[0;34m.\u001b[0m\u001b[0mrun\u001b[0m\u001b[0;34m(\u001b[0m\u001b[0mself\u001b[0m\u001b[0;34m.\u001b[0m\u001b[0mnet\u001b[0m\u001b[0;34m,\u001b[0m \u001b[0mim\u001b[0m\u001b[0;34m,\u001b[0m \u001b[0mmode\u001b[0m\u001b[0;34m=\u001b[0m\u001b[0;34m'test'\u001b[0m\u001b[0;34m)\u001b[0m\u001b[0;34m\u001b[0m\u001b[0;34m\u001b[0m\u001b[0m\n",
      "\u001b[0;32m/opt/conda/envs/python35-paddle120-env/lib/python3.7/site-packages/paddle/fluid/dygraph/layers.py\u001b[0m in \u001b[0;36meval\u001b[0;34m(self)\u001b[0m\n\u001b[1;32m    198\u001b[0m         \u001b[0mself\u001b[0m\u001b[0;34m.\u001b[0m\u001b[0mtraining\u001b[0m \u001b[0;34m=\u001b[0m \u001b[0;32mFalse\u001b[0m\u001b[0;34m\u001b[0m\u001b[0;34m\u001b[0m\u001b[0m\n\u001b[1;32m    199\u001b[0m         \u001b[0;32mfor\u001b[0m \u001b[0mlayer\u001b[0m \u001b[0;32min\u001b[0m \u001b[0mself\u001b[0m\u001b[0;34m.\u001b[0m\u001b[0msublayers\u001b[0m\u001b[0;34m(\u001b[0m\u001b[0;34m)\u001b[0m\u001b[0;34m:\u001b[0m\u001b[0;34m\u001b[0m\u001b[0;34m\u001b[0m\u001b[0m\n\u001b[0;32m--> 200\u001b[0;31m             \u001b[0mlayer\u001b[0m\u001b[0;34m.\u001b[0m\u001b[0mtraining\u001b[0m \u001b[0;34m=\u001b[0m \u001b[0;32mFalse\u001b[0m\u001b[0;34m\u001b[0m\u001b[0;34m\u001b[0m\u001b[0m\n\u001b[0m\u001b[1;32m    201\u001b[0m \u001b[0;34m\u001b[0m\u001b[0m\n\u001b[1;32m    202\u001b[0m     \u001b[0;32mdef\u001b[0m \u001b[0mapply\u001b[0m\u001b[0;34m(\u001b[0m\u001b[0mself\u001b[0m\u001b[0;34m,\u001b[0m \u001b[0mfn\u001b[0m\u001b[0;34m)\u001b[0m\u001b[0;34m:\u001b[0m\u001b[0;34m\u001b[0m\u001b[0;34m\u001b[0m\u001b[0m\n",
      "\u001b[0;32m/opt/conda/envs/python35-paddle120-env/lib/python3.7/site-packages/paddle/fluid/dygraph/layers.py\u001b[0m in \u001b[0;36m__setattr__\u001b[0;34m(self, name, value)\u001b[0m\n\u001b[1;32m   1087\u001b[0m                 \u001b[0m_remove_if_exist\u001b[0m\u001b[0;34m(\u001b[0m\u001b[0mself\u001b[0m\u001b[0;34m.\u001b[0m\u001b[0m__dict__\u001b[0m\u001b[0;34m,\u001b[0m \u001b[0mself\u001b[0m\u001b[0;34m.\u001b[0m\u001b[0m_parameters\u001b[0m\u001b[0;34m,\u001b[0m \u001b[0mself\u001b[0m\u001b[0;34m.\u001b[0m\u001b[0m_buffers\u001b[0m\u001b[0;34m)\u001b[0m\u001b[0;34m\u001b[0m\u001b[0;34m\u001b[0m\u001b[0m\n\u001b[1;32m   1088\u001b[0m                 \u001b[0mlayers\u001b[0m\u001b[0;34m[\u001b[0m\u001b[0mname\u001b[0m\u001b[0;34m]\u001b[0m \u001b[0;34m=\u001b[0m \u001b[0mvalue\u001b[0m\u001b[0;34m\u001b[0m\u001b[0;34m\u001b[0m\u001b[0m\n\u001b[0;32m-> 1089\u001b[0;31m             \u001b[0;32melif\u001b[0m \u001b[0mlayers\u001b[0m \u001b[0;32mis\u001b[0m \u001b[0;32mnot\u001b[0m \u001b[0;32mNone\u001b[0m \u001b[0;32mand\u001b[0m \u001b[0mname\u001b[0m \u001b[0;32min\u001b[0m \u001b[0mlayers\u001b[0m\u001b[0;34m:\u001b[0m\u001b[0;34m\u001b[0m\u001b[0;34m\u001b[0m\u001b[0m\n\u001b[0m\u001b[1;32m   1090\u001b[0m                 \u001b[0;32mif\u001b[0m \u001b[0mvalue\u001b[0m \u001b[0;32mis\u001b[0m \u001b[0;32mnot\u001b[0m \u001b[0;32mNone\u001b[0m\u001b[0;34m:\u001b[0m\u001b[0;34m\u001b[0m\u001b[0;34m\u001b[0m\u001b[0m\n\u001b[1;32m   1091\u001b[0m                     raise TypeError(\n",
      "\u001b[0;31mKeyboardInterrupt\u001b[0m: "
     ]
    }
   ],
   "source": [
    "test=pd.read_csv('work/sample_submit.csv')\r\n",
    "model = pdx.load_model('output/ResNet101_vd_ssld/best_model/')\r\n",
    "labels=[]\r\n",
    "for index, item in test.iterrows():  \r\n",
    "    image_name = os.path.join('work/test', item['name'])\r\n",
    "    label = model.predict(image_name)\r\n",
    "    labels.append(label)\r\n",
    "print(\"Predict Done:\", len(labels))"
   ]
  },
  {
   "cell_type": "code",
   "execution_count": null,
   "metadata": {
    "collapsed": false
   },
   "outputs": [],
   "source": [
    "test['label']=labels\r\n",
    "for i in range(len(labels)):\r\n",
    "    test['label'][i]=test['label'][i][0]['category']\r\n",
    "\r\n",
    "# 不要index\r\n",
    "test.to_csv('result.csv', index=False)"
   ]
  }
 ],
 "metadata": {
  "kernelspec": {
   "display_name": "PaddlePaddle 2.1.2 (Python 3.5)",
   "language": "python",
   "name": "py35-paddle1.2.0"
  },
  "language_info": {
   "codemirror_mode": {
    "name": "ipython",
    "version": 3
   },
   "file_extension": ".py",
   "mimetype": "text/x-python",
   "name": "python",
   "nbconvert_exporter": "python",
   "pygments_lexer": "ipython3",
   "version": "3.7.4"
  }
 },
 "nbformat": 4,
 "nbformat_minor": 1
}

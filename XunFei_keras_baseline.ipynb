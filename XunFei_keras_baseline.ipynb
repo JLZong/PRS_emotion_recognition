{
  "nbformat": 4,
  "nbformat_minor": 0,
  "metadata": {
    "accelerator": "GPU",
    "colab": {
      "name": "XunFei_face_emotion_recogniton.ipynb",
      "provenance": [],
      "collapsed_sections": [],
      "machine_shape": "hm"
    },
    "kernelspec": {
      "display_name": "Python 3",
      "name": "python3"
    },
    "language_info": {
      "name": "python"
    }
  },
  "cells": [
    {
      "cell_type": "code",
      "metadata": {
        "colab": {
          "base_uri": "https://localhost:8080/"
        },
        "id": "oCySwhacMOmq",
        "outputId": "8cf2f8e8-c517-4887-eab0-923d6ef5d3fe"
      },
      "source": [
        "# Grant access to google drive.\n",
        "# Run this cell, then you’ll see a link, click on that link, allow access\n",
        "# Copy the code that pops up, paste it in the box, hit Enter\n",
        "import os\n",
        "from google.colab import drive\n",
        "drive.mount('/content/gdrive')\n",
        "\n",
        "# # Change working directory to be current folder\n",
        "# # os.chdir('/content/gdrive/My Drive/Your Folder Name/Your sub Folder Name')\n",
        "# os.chdir('/content/gdrive/My Drive/xunfei_emotion_recognition')\n",
        "# !ls\n"
      ],
      "execution_count": 57,
      "outputs": [
        {
          "output_type": "stream",
          "text": [
            "Drive already mounted at /content/gdrive; to attempt to forcibly remount, call drive.mount(\"/content/gdrive\", force_remount=True).\n"
          ],
          "name": "stdout"
        }
      ]
    },
    {
      "cell_type": "code",
      "metadata": {
        "id": "ndnYITym1GSn",
        "colab": {
          "base_uri": "https://localhost:8080/"
        },
        "outputId": "52fa3efb-3cb2-4ecf-ccd5-876048b66fd2"
      },
      "source": [
        "!pwd"
      ],
      "execution_count": 58,
      "outputs": [
        {
          "output_type": "stream",
          "text": [
            "/content\n"
          ],
          "name": "stdout"
        }
      ]
    },
    {
      "cell_type": "code",
      "metadata": {
        "colab": {
          "base_uri": "https://localhost:8080/"
        },
        "id": "JlXHIClM18oy",
        "outputId": "1db00e91-ee37-4814-d548-be4feb1e7eb0"
      },
      "source": [
        "!cp gdrive/MyDrive/xunfei_emotion_recognition/train.zip train_local\n",
        "!cp gdrive/MyDrive/xunfei_emotion_recognition/test.zip train_local\n",
        "!unzip train_local/test.zip\n",
        "!unzip train_local/train.zipn"
      ],
      "execution_count": null,
      "outputs": [
        {
          "output_type": "stream",
          "text": [
            "Archive:  train_local/test.zip\n",
            "replace test/06796.png? [y]es, [n]o, [A]ll, [N]one, [r]ename: Archive:  train_local/train.zip\n",
            "replace train/happy/im4403.png? [y]es, [n]o, [A]ll, [N]one, [r]ename: "
          ],
          "name": "stdout"
        }
      ]
    },
    {
      "cell_type": "code",
      "metadata": {
        "colab": {
          "base_uri": "https://localhost:8080/"
        },
        "id": "XuwtmQkULJsc",
        "outputId": "a5c36cdb-3261-4e50-faa2-fa4bf9b207e4"
      },
      "source": [
        "import matplotlib\n",
        "import sklearn\n",
        "import numpy as np\n",
        "import pandas as pd\n",
        "import sklearn.metrics as metrics\n",
        "import matplotlib.pyplot as plt\n",
        "import tensorflow as tf\n",
        "\n",
        "\n",
        "from tensorflow.keras.callbacks import ModelCheckpoint,CSVLogger,LearningRateScheduler\n",
        "from tensorflow.keras.models import Model\n",
        "from tensorflow.keras.layers import Input\n",
        "from tensorflow.keras.layers import Dense\n",
        "from tensorflow.keras.layers import Flatten\n",
        "from tensorflow.keras.layers import Conv2D\n",
        "from tensorflow.keras.layers import BatchNormalization\n",
        "from tensorflow.keras.layers import Dropout\n",
        "from tensorflow.keras.layers import Activation\n",
        "from tensorflow.keras.layers import AveragePooling2D\n",
        "from tensorflow.keras.layers import add\n",
        "from tensorflow.keras.regularizers import l2\n",
        "from tensorflow.keras.utils import to_categorical\n",
        "from tensorflow.keras.datasets import cifar10\n",
        "from tensorflow.keras import optimizers\n",
        "from tensorflow.keras.preprocessing.image import ImageDataGenerator\n",
        "from tensorflow.keras.utils import plot_model\n",
        "\n",
        "%matplotlib inline\n",
        "\n",
        "print(tf.test.gpu_device_name())\n",
        "print(\"Versions of key libraries\")\n",
        "print(\"---\")\n",
        "print(\"tensorflow: \", tf.__version__)\n",
        "print(\"numpy:      \", np.__version__)\n",
        "print(\"matplotlib: \", matplotlib.__version__)\n",
        "print(\"sklearn:    \", sklearn.__version__)"
      ],
      "execution_count": 77,
      "outputs": [
        {
          "output_type": "stream",
          "text": [
            "/device:GPU:0\n",
            "Versions of key libraries\n",
            "---\n",
            "tensorflow:  2.6.0\n",
            "numpy:       1.19.5\n",
            "matplotlib:  3.2.2\n",
            "sklearn:     0.22.2.post1\n"
          ],
          "name": "stdout"
        }
      ]
    },
    {
      "cell_type": "code",
      "metadata": {
        "id": "l34Ss_lSVYHg",
        "colab": {
          "base_uri": "https://localhost:8080/"
        },
        "outputId": "146f333a-e185-473b-8cd5-cff24b5656b0"
      },
      "source": [
        "# basic setting\n",
        "def implt(img):\n",
        "    plt.figure()\n",
        "    plt.imshow(img)\n",
        "    plt.axis('off')\n",
        "\n",
        "plt.style.use('seaborn')                   # if want to use the default style, set 'classic'\n",
        "plt.rcParams['ytick.right']     = True\n",
        "plt.rcParams['ytick.labelright']= True\n",
        "plt.rcParams['ytick.left']      = False\n",
        "plt.rcParams['ytick.labelleft'] = False\n",
        "plt.rcParams['figure.figsize']  = [7,7]   # Set the figure size to be 7 inch for (width,height)\n",
        "\n",
        "print(\"Matplotlib setup completes.\")"
      ],
      "execution_count": 78,
      "outputs": [
        {
          "output_type": "stream",
          "text": [
            "Matplotlib setup completes.\n"
          ],
          "name": "stdout"
        }
      ]
    },
    {
      "cell_type": "code",
      "metadata": {
        "id": "rpDt7PrIMPbk",
        "colab": {
          "base_uri": "https://localhost:8080/"
        },
        "outputId": "2741ef0a-d4cc-4d63-b7d1-a1bf8a8eb168"
      },
      "source": [
        "batch_size = 32\n",
        "num_classes= 7\n",
        "from keras.preprocessing.image import ImageDataGenerator\n",
        "#data augument\n",
        "train_datagen = ImageDataGenerator(rescale=1./255,\n",
        "                                   # rotation_range=10,\n",
        "                                   # width_shift_range=0.2,\n",
        "                                   # height_shift_range=0.2,\n",
        "                                   # horizontal_flip=True,\n",
        "                                   validation_split=0.2)\n",
        "\n",
        "val_datagen = ImageDataGenerator(rescale=1./255, validation_split=0.2)\n",
        "\n",
        "train_data = train_datagen.flow_from_directory('./train/', \n",
        "                                               color_mode='rgb',\n",
        "                                               batch_size=batch_size, \n",
        "                                               class_mode='categorical',\n",
        "                                               target_size=(48, 48),\n",
        "                                               shuffle=True,\n",
        "                                               subset = 'training') \n",
        "\n",
        "val_data = val_datagen.flow_from_directory('./train/', \n",
        "                                           color_mode='rgb',\n",
        "                                           batch_size=batch_size, \n",
        "                                           class_mode='categorical',\n",
        "                                           target_size=(48, 48),\n",
        "                                           shuffle=False,\n",
        "                                           subset = 'validation')"
      ],
      "execution_count": 79,
      "outputs": [
        {
          "output_type": "stream",
          "text": [
            "Found 22968 images belonging to 7 classes.\n",
            "Found 5741 images belonging to 7 classes.\n"
          ],
          "name": "stdout"
        }
      ]
    },
    {
      "cell_type": "markdown",
      "metadata": {
        "id": "39zNYB3RsJEl"
      },
      "source": [
        "# 新段落"
      ]
    },
    {
      "cell_type": "code",
      "metadata": {
        "id": "2t8nPkYpN7AM",
        "colab": {
          "base_uri": "https://localhost:8080/"
        },
        "outputId": "cb38d51e-0650-49fd-8aa8-58f957d2b3e0"
      },
      "source": [
        "optmz       = optimizers.Adam(lr=0.001)                                         # Step 1\n",
        "modelname   = 'ResV1Cfg5'                                                # Step 2\n",
        "\n",
        "                                                                                # Step 3\n",
        "def resLyr(inputs,\n",
        "           numFilters=16,\n",
        "           kernelSz=3,\n",
        "           strides=1,\n",
        "           activation='relu',\n",
        "           batchNorm=True,\n",
        "           convFirst=True,\n",
        "           lyrName=None):\n",
        "\n",
        "    convLyr     = Conv2D(numFilters,\n",
        "                         kernel_size=kernelSz,\n",
        "                         strides=strides,\n",
        "                         padding='same',\n",
        "                         kernel_initializer='he_normal',\n",
        "                         kernel_regularizer=l2(1e-4),\n",
        "                         name=lyrName+'_conv' if lyrName else None)\n",
        "    x           = inputs\n",
        "    \n",
        "    if convFirst:\n",
        "        x       = convLyr(x)\n",
        "        \n",
        "        if batchNorm:\n",
        "            x   = BatchNormalization(name=lyrName+'_bn' if lyrName else None)(x)\n",
        "            \n",
        "        if activation is not None:\n",
        "            x   = Activation(activation,\n",
        "                             name=lyrName+'_'+activation if lyrName else None)(x)\n",
        "    else:\n",
        "        if batchNorm:\n",
        "            x   = BatchNormalization(name=lyrName+'_bn' if lyrName else None)(x)\n",
        "            \n",
        "        if activation is not None:\n",
        "            x   = Activation(activation,\n",
        "                             name=lyrName+'_'+activation if lyrName else None)(x)\n",
        "            \n",
        "        x       = convLyr(x)\n",
        "    return x\n",
        "\n",
        "                                                                                # Step 4\n",
        "def resBlkV1(inputs,\n",
        "             numFilters=16,\n",
        "             numBlocks=3,\n",
        "             downsampleOnFirst=True,\n",
        "             names=None):\n",
        "    \n",
        "    x       = inputs\n",
        "    \n",
        "    for run in range(0,numBlocks):\n",
        "        strides = 1\n",
        "        blkStr  = str(run+1)\n",
        "        \n",
        "        if downsampleOnFirst and run == 0:\n",
        "            strides     = 2\n",
        "            \n",
        "        y       = resLyr(inputs=x,\n",
        "                         numFilters=numFilters,\n",
        "                         strides=strides,\n",
        "                         lyrName=names+'_Blk'+blkStr+'_Res1' if names else None)\n",
        "        y       = resLyr(inputs=y,\n",
        "                         numFilters=numFilters,\n",
        "                         activation=None,\n",
        "                         lyrName=names+'_Blk'+blkStr+'_Res2' if names else None)\n",
        "        \n",
        "        if downsampleOnFirst and run == 0:\n",
        "            x   = resLyr(inputs=x,\n",
        "                         numFilters=numFilters,\n",
        "                         kernelSz=1,\n",
        "                         strides=strides,\n",
        "                         activation=None,\n",
        "                         batchNorm=False,\n",
        "                         lyrName=names+'_Blk'+blkStr+'_lin' if names else None)\n",
        "\n",
        "        x       = add([x,y],\n",
        "                      name=names+'_Blk'+blkStr+'_add' if names else None)\n",
        "        x       = Activation('relu',\n",
        "                             name=names+'_Blk'+blkStr+'_relu' if names else None)(x)\n",
        "        \n",
        "    return x\n",
        "    \n",
        "                                                                                # Step 5\n",
        "def createResNetV1(inputShape=(48,48,3),\n",
        "                   numClasses=7):\n",
        "    inputs=Input(shape=inputShape)\n",
        "\n",
        "    v=resLyr(inputs,lyrName='Inpt')\n",
        "    v=resBlkV1(inputs=v,\n",
        "             numFilters=16,\n",
        "             numBlocks=3,\n",
        "             downsampleOnFirst=False,\n",
        "             names='Stg1')\n",
        "    \n",
        "    v=resBlkV1(inputs=v,\n",
        "             numFilters=32,\n",
        "             numBlocks=3,\n",
        "             downsampleOnFirst=True,\n",
        "             names='Stg2')\n",
        "    \n",
        "    v=resBlkV1(inputs=v,\n",
        "             numFilters=64,\n",
        "             numBlocks=3,\n",
        "             downsampleOnFirst=True,\n",
        "             names='Stg3')\n",
        "    v=Dropout(0.5)(v)\n",
        "    \n",
        "    v=AveragePooling2D(pool_size=4,name='AvgPool')(v)\n",
        "    v=Flatten()(v)\n",
        "    outputs=Dense(num_classes,activation='softmax',kernel_initializer='he_normal')(v)\n",
        "    model=Model(inputs=inputs,outputs=outputs)\n",
        "    model.compile(loss='categorical_crossentropy',optimizer=optmz,metrics=['accuracy'])\n",
        "    return model\n",
        "\n",
        "                                                                                # Step 6\n",
        "model       = createResNetV1()  # This is meant for training\n",
        "modelGo     = createResNetV1()  # This is used for final testing\n",
        "\n",
        "model.summary()"
      ],
      "execution_count": 80,
      "outputs": [
        {
          "output_type": "stream",
          "text": [
            "/usr/local/lib/python3.7/dist-packages/keras/optimizer_v2/optimizer_v2.py:356: UserWarning: The `lr` argument is deprecated, use `learning_rate` instead.\n",
            "  \"The `lr` argument is deprecated, use `learning_rate` instead.\")\n"
          ],
          "name": "stderr"
        },
        {
          "output_type": "stream",
          "text": [
            "Model: \"model_6\"\n",
            "__________________________________________________________________________________________________\n",
            "Layer (type)                    Output Shape         Param #     Connected to                     \n",
            "==================================================================================================\n",
            "input_8 (InputLayer)            [(None, 48, 48, 3)]  0                                            \n",
            "__________________________________________________________________________________________________\n",
            "Inpt_conv (Conv2D)              (None, 48, 48, 16)   448         input_8[0][0]                    \n",
            "__________________________________________________________________________________________________\n",
            "Inpt_bn (BatchNormalization)    (None, 48, 48, 16)   64          Inpt_conv[0][0]                  \n",
            "__________________________________________________________________________________________________\n",
            "Inpt_relu (Activation)          (None, 48, 48, 16)   0           Inpt_bn[0][0]                    \n",
            "__________________________________________________________________________________________________\n",
            "Stg1_Blk1_Res1_conv (Conv2D)    (None, 48, 48, 16)   2320        Inpt_relu[0][0]                  \n",
            "__________________________________________________________________________________________________\n",
            "Stg1_Blk1_Res1_bn (BatchNormali (None, 48, 48, 16)   64          Stg1_Blk1_Res1_conv[0][0]        \n",
            "__________________________________________________________________________________________________\n",
            "Stg1_Blk1_Res1_relu (Activation (None, 48, 48, 16)   0           Stg1_Blk1_Res1_bn[0][0]          \n",
            "__________________________________________________________________________________________________\n",
            "Stg1_Blk1_Res2_conv (Conv2D)    (None, 48, 48, 16)   2320        Stg1_Blk1_Res1_relu[0][0]        \n",
            "__________________________________________________________________________________________________\n",
            "Stg1_Blk1_Res2_bn (BatchNormali (None, 48, 48, 16)   64          Stg1_Blk1_Res2_conv[0][0]        \n",
            "__________________________________________________________________________________________________\n",
            "Stg1_Blk1_add (Add)             (None, 48, 48, 16)   0           Inpt_relu[0][0]                  \n",
            "                                                                 Stg1_Blk1_Res2_bn[0][0]          \n",
            "__________________________________________________________________________________________________\n",
            "Stg1_Blk1_relu (Activation)     (None, 48, 48, 16)   0           Stg1_Blk1_add[0][0]              \n",
            "__________________________________________________________________________________________________\n",
            "Stg1_Blk2_Res1_conv (Conv2D)    (None, 48, 48, 16)   2320        Stg1_Blk1_relu[0][0]             \n",
            "__________________________________________________________________________________________________\n",
            "Stg1_Blk2_Res1_bn (BatchNormali (None, 48, 48, 16)   64          Stg1_Blk2_Res1_conv[0][0]        \n",
            "__________________________________________________________________________________________________\n",
            "Stg1_Blk2_Res1_relu (Activation (None, 48, 48, 16)   0           Stg1_Blk2_Res1_bn[0][0]          \n",
            "__________________________________________________________________________________________________\n",
            "Stg1_Blk2_Res2_conv (Conv2D)    (None, 48, 48, 16)   2320        Stg1_Blk2_Res1_relu[0][0]        \n",
            "__________________________________________________________________________________________________\n",
            "Stg1_Blk2_Res2_bn (BatchNormali (None, 48, 48, 16)   64          Stg1_Blk2_Res2_conv[0][0]        \n",
            "__________________________________________________________________________________________________\n",
            "Stg1_Blk2_add (Add)             (None, 48, 48, 16)   0           Stg1_Blk1_relu[0][0]             \n",
            "                                                                 Stg1_Blk2_Res2_bn[0][0]          \n",
            "__________________________________________________________________________________________________\n",
            "Stg1_Blk2_relu (Activation)     (None, 48, 48, 16)   0           Stg1_Blk2_add[0][0]              \n",
            "__________________________________________________________________________________________________\n",
            "Stg1_Blk3_Res1_conv (Conv2D)    (None, 48, 48, 16)   2320        Stg1_Blk2_relu[0][0]             \n",
            "__________________________________________________________________________________________________\n",
            "Stg1_Blk3_Res1_bn (BatchNormali (None, 48, 48, 16)   64          Stg1_Blk3_Res1_conv[0][0]        \n",
            "__________________________________________________________________________________________________\n",
            "Stg1_Blk3_Res1_relu (Activation (None, 48, 48, 16)   0           Stg1_Blk3_Res1_bn[0][0]          \n",
            "__________________________________________________________________________________________________\n",
            "Stg1_Blk3_Res2_conv (Conv2D)    (None, 48, 48, 16)   2320        Stg1_Blk3_Res1_relu[0][0]        \n",
            "__________________________________________________________________________________________________\n",
            "Stg1_Blk3_Res2_bn (BatchNormali (None, 48, 48, 16)   64          Stg1_Blk3_Res2_conv[0][0]        \n",
            "__________________________________________________________________________________________________\n",
            "Stg1_Blk3_add (Add)             (None, 48, 48, 16)   0           Stg1_Blk2_relu[0][0]             \n",
            "                                                                 Stg1_Blk3_Res2_bn[0][0]          \n",
            "__________________________________________________________________________________________________\n",
            "Stg1_Blk3_relu (Activation)     (None, 48, 48, 16)   0           Stg1_Blk3_add[0][0]              \n",
            "__________________________________________________________________________________________________\n",
            "Stg2_Blk1_Res1_conv (Conv2D)    (None, 24, 24, 32)   4640        Stg1_Blk3_relu[0][0]             \n",
            "__________________________________________________________________________________________________\n",
            "Stg2_Blk1_Res1_bn (BatchNormali (None, 24, 24, 32)   128         Stg2_Blk1_Res1_conv[0][0]        \n",
            "__________________________________________________________________________________________________\n",
            "Stg2_Blk1_Res1_relu (Activation (None, 24, 24, 32)   0           Stg2_Blk1_Res1_bn[0][0]          \n",
            "__________________________________________________________________________________________________\n",
            "Stg2_Blk1_Res2_conv (Conv2D)    (None, 24, 24, 32)   9248        Stg2_Blk1_Res1_relu[0][0]        \n",
            "__________________________________________________________________________________________________\n",
            "Stg2_Blk1_lin_conv (Conv2D)     (None, 24, 24, 32)   544         Stg1_Blk3_relu[0][0]             \n",
            "__________________________________________________________________________________________________\n",
            "Stg2_Blk1_Res2_bn (BatchNormali (None, 24, 24, 32)   128         Stg2_Blk1_Res2_conv[0][0]        \n",
            "__________________________________________________________________________________________________\n",
            "Stg2_Blk1_add (Add)             (None, 24, 24, 32)   0           Stg2_Blk1_lin_conv[0][0]         \n",
            "                                                                 Stg2_Blk1_Res2_bn[0][0]          \n",
            "__________________________________________________________________________________________________\n",
            "Stg2_Blk1_relu (Activation)     (None, 24, 24, 32)   0           Stg2_Blk1_add[0][0]              \n",
            "__________________________________________________________________________________________________\n",
            "Stg2_Blk2_Res1_conv (Conv2D)    (None, 24, 24, 32)   9248        Stg2_Blk1_relu[0][0]             \n",
            "__________________________________________________________________________________________________\n",
            "Stg2_Blk2_Res1_bn (BatchNormali (None, 24, 24, 32)   128         Stg2_Blk2_Res1_conv[0][0]        \n",
            "__________________________________________________________________________________________________\n",
            "Stg2_Blk2_Res1_relu (Activation (None, 24, 24, 32)   0           Stg2_Blk2_Res1_bn[0][0]          \n",
            "__________________________________________________________________________________________________\n",
            "Stg2_Blk2_Res2_conv (Conv2D)    (None, 24, 24, 32)   9248        Stg2_Blk2_Res1_relu[0][0]        \n",
            "__________________________________________________________________________________________________\n",
            "Stg2_Blk2_Res2_bn (BatchNormali (None, 24, 24, 32)   128         Stg2_Blk2_Res2_conv[0][0]        \n",
            "__________________________________________________________________________________________________\n",
            "Stg2_Blk2_add (Add)             (None, 24, 24, 32)   0           Stg2_Blk1_relu[0][0]             \n",
            "                                                                 Stg2_Blk2_Res2_bn[0][0]          \n",
            "__________________________________________________________________________________________________\n",
            "Stg2_Blk2_relu (Activation)     (None, 24, 24, 32)   0           Stg2_Blk2_add[0][0]              \n",
            "__________________________________________________________________________________________________\n",
            "Stg2_Blk3_Res1_conv (Conv2D)    (None, 24, 24, 32)   9248        Stg2_Blk2_relu[0][0]             \n",
            "__________________________________________________________________________________________________\n",
            "Stg2_Blk3_Res1_bn (BatchNormali (None, 24, 24, 32)   128         Stg2_Blk3_Res1_conv[0][0]        \n",
            "__________________________________________________________________________________________________\n",
            "Stg2_Blk3_Res1_relu (Activation (None, 24, 24, 32)   0           Stg2_Blk3_Res1_bn[0][0]          \n",
            "__________________________________________________________________________________________________\n",
            "Stg2_Blk3_Res2_conv (Conv2D)    (None, 24, 24, 32)   9248        Stg2_Blk3_Res1_relu[0][0]        \n",
            "__________________________________________________________________________________________________\n",
            "Stg2_Blk3_Res2_bn (BatchNormali (None, 24, 24, 32)   128         Stg2_Blk3_Res2_conv[0][0]        \n",
            "__________________________________________________________________________________________________\n",
            "Stg2_Blk3_add (Add)             (None, 24, 24, 32)   0           Stg2_Blk2_relu[0][0]             \n",
            "                                                                 Stg2_Blk3_Res2_bn[0][0]          \n",
            "__________________________________________________________________________________________________\n",
            "Stg2_Blk3_relu (Activation)     (None, 24, 24, 32)   0           Stg2_Blk3_add[0][0]              \n",
            "__________________________________________________________________________________________________\n",
            "Stg3_Blk1_Res1_conv (Conv2D)    (None, 12, 12, 64)   18496       Stg2_Blk3_relu[0][0]             \n",
            "__________________________________________________________________________________________________\n",
            "Stg3_Blk1_Res1_bn (BatchNormali (None, 12, 12, 64)   256         Stg3_Blk1_Res1_conv[0][0]        \n",
            "__________________________________________________________________________________________________\n",
            "Stg3_Blk1_Res1_relu (Activation (None, 12, 12, 64)   0           Stg3_Blk1_Res1_bn[0][0]          \n",
            "__________________________________________________________________________________________________\n",
            "Stg3_Blk1_Res2_conv (Conv2D)    (None, 12, 12, 64)   36928       Stg3_Blk1_Res1_relu[0][0]        \n",
            "__________________________________________________________________________________________________\n",
            "Stg3_Blk1_lin_conv (Conv2D)     (None, 12, 12, 64)   2112        Stg2_Blk3_relu[0][0]             \n",
            "__________________________________________________________________________________________________\n",
            "Stg3_Blk1_Res2_bn (BatchNormali (None, 12, 12, 64)   256         Stg3_Blk1_Res2_conv[0][0]        \n",
            "__________________________________________________________________________________________________\n",
            "Stg3_Blk1_add (Add)             (None, 12, 12, 64)   0           Stg3_Blk1_lin_conv[0][0]         \n",
            "                                                                 Stg3_Blk1_Res2_bn[0][0]          \n",
            "__________________________________________________________________________________________________\n",
            "Stg3_Blk1_relu (Activation)     (None, 12, 12, 64)   0           Stg3_Blk1_add[0][0]              \n",
            "__________________________________________________________________________________________________\n",
            "Stg3_Blk2_Res1_conv (Conv2D)    (None, 12, 12, 64)   36928       Stg3_Blk1_relu[0][0]             \n",
            "__________________________________________________________________________________________________\n",
            "Stg3_Blk2_Res1_bn (BatchNormali (None, 12, 12, 64)   256         Stg3_Blk2_Res1_conv[0][0]        \n",
            "__________________________________________________________________________________________________\n",
            "Stg3_Blk2_Res1_relu (Activation (None, 12, 12, 64)   0           Stg3_Blk2_Res1_bn[0][0]          \n",
            "__________________________________________________________________________________________________\n",
            "Stg3_Blk2_Res2_conv (Conv2D)    (None, 12, 12, 64)   36928       Stg3_Blk2_Res1_relu[0][0]        \n",
            "__________________________________________________________________________________________________\n",
            "Stg3_Blk2_Res2_bn (BatchNormali (None, 12, 12, 64)   256         Stg3_Blk2_Res2_conv[0][0]        \n",
            "__________________________________________________________________________________________________\n",
            "Stg3_Blk2_add (Add)             (None, 12, 12, 64)   0           Stg3_Blk1_relu[0][0]             \n",
            "                                                                 Stg3_Blk2_Res2_bn[0][0]          \n",
            "__________________________________________________________________________________________________\n",
            "Stg3_Blk2_relu (Activation)     (None, 12, 12, 64)   0           Stg3_Blk2_add[0][0]              \n",
            "__________________________________________________________________________________________________\n",
            "Stg3_Blk3_Res1_conv (Conv2D)    (None, 12, 12, 64)   36928       Stg3_Blk2_relu[0][0]             \n",
            "__________________________________________________________________________________________________\n",
            "Stg3_Blk3_Res1_bn (BatchNormali (None, 12, 12, 64)   256         Stg3_Blk3_Res1_conv[0][0]        \n",
            "__________________________________________________________________________________________________\n",
            "Stg3_Blk3_Res1_relu (Activation (None, 12, 12, 64)   0           Stg3_Blk3_Res1_bn[0][0]          \n",
            "__________________________________________________________________________________________________\n",
            "Stg3_Blk3_Res2_conv (Conv2D)    (None, 12, 12, 64)   36928       Stg3_Blk3_Res1_relu[0][0]        \n",
            "__________________________________________________________________________________________________\n",
            "Stg3_Blk3_Res2_bn (BatchNormali (None, 12, 12, 64)   256         Stg3_Blk3_Res2_conv[0][0]        \n",
            "__________________________________________________________________________________________________\n",
            "Stg3_Blk3_add (Add)             (None, 12, 12, 64)   0           Stg3_Blk2_relu[0][0]             \n",
            "                                                                 Stg3_Blk3_Res2_bn[0][0]          \n",
            "__________________________________________________________________________________________________\n",
            "Stg3_Blk3_relu (Activation)     (None, 12, 12, 64)   0           Stg3_Blk3_add[0][0]              \n",
            "__________________________________________________________________________________________________\n",
            "dropout_11 (Dropout)            (None, 12, 12, 64)   0           Stg3_Blk3_relu[0][0]             \n",
            "__________________________________________________________________________________________________\n",
            "AvgPool (AveragePooling2D)      (None, 3, 3, 64)     0           dropout_11[0][0]                 \n",
            "__________________________________________________________________________________________________\n",
            "flatten_7 (Flatten)             (None, 576)          0           AvgPool[0][0]                    \n",
            "__________________________________________________________________________________________________\n",
            "dense_6 (Dense)                 (None, 7)            4039        flatten_7[0][0]                  \n",
            "==================================================================================================\n",
            "Total params: 277,831\n",
            "Trainable params: 276,455\n",
            "Non-trainable params: 1,376\n",
            "__________________________________________________________________________________________________\n"
          ],
          "name": "stdout"
        }
      ]
    },
    {
      "cell_type": "code",
      "metadata": {
        "id": "pFQZDIpnZUHi",
        "colab": {
          "base_uri": "https://localhost:8080/"
        },
        "outputId": "a182f369-c33e-4d29-fea7-185249bf9be2"
      },
      "source": [
        "def lrSchedule(epoch):\n",
        "    lr  = 1e-3\n",
        "    \n",
        "    if epoch > 160:\n",
        "        lr  *= 0.5e-3        \n",
        "    elif epoch > 140:\n",
        "        lr  *= 1e-3       \n",
        "    elif epoch > 120:\n",
        "        lr  *= 1e-2     \n",
        "    elif epoch > 80:\n",
        "        lr  *= 1e-1\n",
        "        \n",
        "    print('Learning rate: ', lr)\n",
        "    return lr\n",
        "\n",
        "LRScheduler     = LearningRateScheduler(lrSchedule)\n",
        "\n",
        "                                                                                # Step 2\n",
        "folderpath      = '/content/gdrive/My Drive/xunfei_emotion_recognition/'\n",
        "filepath        = folderpath + modelname + \".hdf5\"\n",
        "checkpoint      = ModelCheckpoint(filepath, \n",
        "                                  monitor='val_accuracy', \n",
        "                                  verbose=1, \n",
        "                                  save_best_only=True, \n",
        "                                  mode='max')\n",
        "\n",
        "csv_logger      = CSVLogger(folderpath+modelname +'.csv')                       # Step 2\n",
        "callbacks_list  = [checkpoint,csv_logger,LRScheduler]                           # Step 3\n",
        "\n",
        "print(\"Callbacks created:\")\n",
        "print(callbacks_list[0])\n",
        "print(callbacks_list[1])\n",
        "print(callbacks_list[2])\n",
        "print('')\n",
        "print(\"Path to model:\", filepath)\n",
        "print(\"Path to log:  \", folderpath+modelname+'.csv')"
      ],
      "execution_count": 81,
      "outputs": [
        {
          "output_type": "stream",
          "text": [
            "Callbacks created:\n",
            "<keras.callbacks.ModelCheckpoint object at 0x7efb1688ea50>\n",
            "<keras.callbacks.CSVLogger object at 0x7efb1688e810>\n",
            "<keras.callbacks.LearningRateScheduler object at 0x7efbc01ddd10>\n",
            "\n",
            "Path to model: /content/gdrive/My Drive/xunfei_emotion_recognition/ResV1Cfg5.hdf5\n",
            "Path to log:   /content/gdrive/My Drive/xunfei_emotion_recognition/ResV1Cfg5.csv\n"
          ],
          "name": "stdout"
        }
      ]
    },
    {
      "cell_type": "code",
      "metadata": {
        "id": "6KVhav96Zhdj",
        "colab": {
          "base_uri": "https://localhost:8080/"
        },
        "outputId": "38f587f5-03fd-45d1-a2dc-6a9b70cd43cc"
      },
      "source": [
        "model.fit(train_data,\n",
        "                  validation_data=val_data,\n",
        "                    epochs=10,\n",
        "                    verbose=1,\n",
        "                  callbacks=callbacks_list)     "
      ],
      "execution_count": 82,
      "outputs": [
        {
          "output_type": "stream",
          "text": [
            "Epoch 1/10\n",
            "Learning rate:  0.001\n",
            "718/718 [==============================] - 20s 25ms/step - loss: 1.8939 - accuracy: 0.3312 - val_loss: 1.7419 - val_accuracy: 0.4212\n",
            "\n",
            "Epoch 00001: val_accuracy improved from -inf to 0.42118, saving model to /content/gdrive/My Drive/xunfei_emotion_recognition/ResV1Cfg5.hdf5\n"
          ],
          "name": "stdout"
        },
        {
          "output_type": "stream",
          "text": [
            "/usr/local/lib/python3.7/dist-packages/keras/utils/generic_utils.py:497: CustomMaskWarning: Custom mask layers require a config and must override get_config. When loading, the custom mask layer must be passed to the custom_objects argument.\n",
            "  category=CustomMaskWarning)\n"
          ],
          "name": "stderr"
        },
        {
          "output_type": "stream",
          "text": [
            "Epoch 2/10\n",
            "Learning rate:  0.001\n",
            "718/718 [==============================] - 13s 18ms/step - loss: 1.5645 - accuracy: 0.4600 - val_loss: 1.6477 - val_accuracy: 0.4381\n",
            "\n",
            "Epoch 00002: val_accuracy improved from 0.42118 to 0.43808, saving model to /content/gdrive/My Drive/xunfei_emotion_recognition/ResV1Cfg5.hdf5\n",
            "Epoch 3/10\n",
            "Learning rate:  0.001\n",
            "718/718 [==============================] - 13s 18ms/step - loss: 1.4171 - accuracy: 0.5177 - val_loss: 1.4688 - val_accuracy: 0.5095\n",
            "\n",
            "Epoch 00003: val_accuracy improved from 0.43808 to 0.50949, saving model to /content/gdrive/My Drive/xunfei_emotion_recognition/ResV1Cfg5.hdf5\n",
            "Epoch 4/10\n",
            "Learning rate:  0.001\n",
            "718/718 [==============================] - 13s 18ms/step - loss: 1.3279 - accuracy: 0.5574 - val_loss: 1.4023 - val_accuracy: 0.5299\n",
            "\n",
            "Epoch 00004: val_accuracy improved from 0.50949 to 0.52987, saving model to /content/gdrive/My Drive/xunfei_emotion_recognition/ResV1Cfg5.hdf5\n",
            "Epoch 5/10\n",
            "Learning rate:  0.001\n",
            "718/718 [==============================] - 13s 18ms/step - loss: 1.2611 - accuracy: 0.5869 - val_loss: 1.3506 - val_accuracy: 0.5569\n",
            "\n",
            "Epoch 00005: val_accuracy improved from 0.52987 to 0.55687, saving model to /content/gdrive/My Drive/xunfei_emotion_recognition/ResV1Cfg5.hdf5\n",
            "Epoch 6/10\n",
            "Learning rate:  0.001\n",
            "718/718 [==============================] - 13s 18ms/step - loss: 1.2004 - accuracy: 0.6112 - val_loss: 1.3646 - val_accuracy: 0.5548\n",
            "\n",
            "Epoch 00006: val_accuracy did not improve from 0.55687\n",
            "Epoch 7/10\n",
            "Learning rate:  0.001\n",
            "718/718 [==============================] - 13s 18ms/step - loss: 1.1434 - accuracy: 0.6332 - val_loss: 1.4146 - val_accuracy: 0.5504\n",
            "\n",
            "Epoch 00007: val_accuracy did not improve from 0.55687\n",
            "Epoch 8/10\n",
            "Learning rate:  0.001\n",
            "718/718 [==============================] - 13s 18ms/step - loss: 1.0834 - accuracy: 0.6581 - val_loss: 1.3656 - val_accuracy: 0.5715\n",
            "\n",
            "Epoch 00008: val_accuracy improved from 0.55687 to 0.57150, saving model to /content/gdrive/My Drive/xunfei_emotion_recognition/ResV1Cfg5.hdf5\n",
            "Epoch 9/10\n",
            "Learning rate:  0.001\n",
            "718/718 [==============================] - 13s 18ms/step - loss: 1.0189 - accuracy: 0.6895 - val_loss: 1.6254 - val_accuracy: 0.5121\n",
            "\n",
            "Epoch 00009: val_accuracy did not improve from 0.57150\n",
            "Epoch 10/10\n",
            "Learning rate:  0.001\n",
            "718/718 [==============================] - 13s 19ms/step - loss: 0.9490 - accuracy: 0.7175 - val_loss: 1.4324 - val_accuracy: 0.5725\n",
            "\n",
            "Epoch 00010: val_accuracy improved from 0.57150 to 0.57255, saving model to /content/gdrive/My Drive/xunfei_emotion_recognition/ResV1Cfg5.hdf5\n"
          ],
          "name": "stdout"
        },
        {
          "output_type": "execute_result",
          "data": {
            "text/plain": [
              "<keras.callbacks.History at 0x7efbd8a2bd90>"
            ]
          },
          "metadata": {},
          "execution_count": 82
        }
      ]
    },
    {
      "cell_type": "code",
      "metadata": {
        "id": "Eo36sGb3VFpJ",
        "colab": {
          "base_uri": "https://localhost:8080/"
        },
        "outputId": "4e03bc37-9365-4a07-94ba-22bdb1906f85"
      },
      "source": [
        "modelGo.load_weights(filepath)\n",
        "modelGo.compile(loss='categorical_crossentropy', \n",
        "                optimizer=optmz, \n",
        "                metrics=['accuracy'])\n",
        "\n",
        "predicts    = modelGo.predict(val_data)                                            # Step 2\n",
        "print(\"Prediction completes.\")"
      ],
      "execution_count": 83,
      "outputs": [
        {
          "output_type": "stream",
          "text": [
            "Prediction completes.\n"
          ],
          "name": "stdout"
        }
      ]
    },
    {
      "cell_type": "code",
      "metadata": {
        "colab": {
          "base_uri": "https://localhost:8080/"
        },
        "id": "qApFJ7loFRXj",
        "outputId": "8ba13418-8e84-4fae-fa27-0f1afe74f729"
      },
      "source": [
        "val_data = val_datagen.flow_from_directory('./train/', \n",
        "                                           color_mode='rgb',\n",
        "                                           class_mode='binary',\n",
        "                                           target_size=(48, 48),\n",
        "                                           shuffle=False,\n",
        "                                           subset = 'validation')\n",
        "ylabel=[]\n",
        "for i in range(0,len(val_data)):\n",
        "  for j in range(0,len(val_data[i][1])):\n",
        "    ylabel.append(val_data[i][1][j])\n",
        "ylabel=np.array(ylabel)\n",
        "print(ylabel.shape)"
      ],
      "execution_count": 86,
      "outputs": [
        {
          "output_type": "stream",
          "text": [
            "Found 5741 images belonging to 7 classes.\n",
            "(5741,)\n"
          ],
          "name": "stdout"
        }
      ]
    },
    {
      "cell_type": "code",
      "metadata": {
        "id": "4BmQWXzXUn4D",
        "colab": {
          "base_uri": "https://localhost:8080/"
        },
        "outputId": "1aff851f-d3cc-469b-f7f6-555c136d9749"
      },
      "source": [
        "labelname   = ['angry', 'disgusted', 'fearful', 'happy','neutral', 'sad', 'surprised'] \n",
        "predout     = np.argmax(predicts,axis=1)                                                                           \n",
        "testout     = ylabel\n",
        "testScores  = metrics.accuracy_score(testout,predout)                          \n",
        " # Step 4\n",
        "print(\"Best accuracy (on testing dataset): %.2f%%\" % (testScores*100))\n",
        "print(metrics.classification_report(testout,\n",
        "                                    predout,\n",
        "                                    target_names=labelname,\n",
        "                                    digits=4))"
      ],
      "execution_count": 87,
      "outputs": [
        {
          "output_type": "stream",
          "text": [
            "Best accuracy (on testing dataset): 57.25%\n",
            "              precision    recall  f1-score   support\n",
            "\n",
            "       angry     0.5279    0.3554    0.4248       799\n",
            "   disgusted     0.6905    0.3333    0.4496        87\n",
            "     fearful     0.4828    0.3260    0.3892       819\n",
            "       happy     0.8236    0.7505    0.7854      1443\n",
            "     neutral     0.4468    0.7190    0.5511       993\n",
            "         sad     0.4422    0.5145    0.4756       966\n",
            "   surprised     0.7233    0.6514    0.6855       634\n",
            "\n",
            "    accuracy                         0.5725      5741\n",
            "   macro avg     0.5910    0.5215    0.5373      5741\n",
            "weighted avg     0.5914    0.5725    0.5699      5741\n",
            "\n"
          ],
          "name": "stdout"
        }
      ]
    },
    {
      "cell_type": "markdown",
      "metadata": {
        "id": "xCn-lRV3D7be"
      },
      "source": [
        "# 新段落"
      ]
    },
    {
      "cell_type": "code",
      "metadata": {
        "id": "efaoIfPxUrBi",
        "colab": {
          "base_uri": "https://localhost:8080/",
          "height": 569
        },
        "outputId": "a5ef4098-fe2a-4d39-a34f-798d4813cb1b"
      },
      "source": [
        "confusion   = metrics.confusion_matrix(testout,predout)\n",
        "print(confusion)\n",
        "\n",
        "records     = pd.read_csv(folderpath+modelname +'.csv')\n",
        "plt.figure()\n",
        "plt.subplot(211)\n",
        "plt.plot(records['val_loss'], label=\"validation\")\n",
        "plt.plot(records['loss'],label=\"training\")\n",
        "plt.yticks([0.00,0.50,1.00,1.50])\n",
        "plt.title('Loss value',fontsize=12)\n",
        "\n",
        "ax          = plt.gca()\n",
        "ax.set_xticklabels([])\n",
        "\n",
        "plt.subplot(212)\n",
        "plt.plot(records['val_accuracy'],label=\"validation\")\n",
        "plt.plot(records['accuracy'],label=\"training\")\n",
        "plt.yticks([0.5,0.6,0.7,0.8])\n",
        "plt.title('Accuracy',fontsize=12)\n",
        "ax.legend()\n",
        "plt.show()"
      ],
      "execution_count": 88,
      "outputs": [
        {
          "output_type": "stream",
          "text": [
            "[[ 284    3   67   65  206  148   26]\n",
            " [  17   29    4    2   11   23    1]\n",
            " [  75    5  267   33  152  211   76]\n",
            " [  41    0   39 1083  168   82   30]\n",
            " [  32    2   34   60  714  141   10]\n",
            " [  68    2   58   40  286  497   15]\n",
            " [  21    1   84   32   61   22  413]]\n"
          ],
          "name": "stdout"
        },
        {
          "output_type": "display_data",
          "data": {
            "image/png": "[encoded data removed]",
            "text/plain": [
              "<Figure size 504x504 with 2 Axes>"
            ]
          },
          "metadata": {}
        }
      ]
    },
    {
      "cell_type": "code",
      "metadata": {
        "id": "24hGqYOhPCpu"
      },
      "source": [
        "!cp -r test test2"
      ],
      "execution_count": 97,
      "outputs": []
    },
    {
      "cell_type": "code",
      "metadata": {
        "id": "sJJZSXthRWtP",
        "colab": {
          "base_uri": "https://localhost:8080/"
        },
        "outputId": "a92beedc-2697-4a9d-c625-643dc8f10888"
      },
      "source": [
        "test_datagen = ImageDataGenerator(rescale=1./255)\n",
        "\n",
        "test_generator = test_datagen.flow_from_directory(\n",
        "        './test2/',\n",
        "        target_size=(48, 48),\n",
        "        color_mode=\"rgb\",\n",
        "        shuffle = False,\n",
        "        class_mode='categorical',\n",
        "        )\n",
        "\n",
        "filenames = test_generator.filenames\n",
        "nb_samples = len(filenames)\n",
        "predict = model.predict_generator(test_generator,steps = nb_samples)"
      ],
      "execution_count": 98,
      "outputs": [
        {
          "output_type": "stream",
          "text": [
            "Found 7178 images belonging to 1 classes.\n"
          ],
          "name": "stdout"
        },
        {
          "output_type": "stream",
          "text": [
            "/usr/local/lib/python3.7/dist-packages/keras/engine/training.py:2035: UserWarning: `Model.predict_generator` is deprecated and will be removed in a future version. Please use `Model.predict`, which supports generators.\n",
            "  warnings.warn('`Model.predict_generator` is deprecated and '\n"
          ],
          "name": "stderr"
        },
        {
          "output_type": "stream",
          "text": [
            "WARNING:tensorflow:Your input ran out of data; interrupting training. Make sure that your dataset or generator can generate at least `steps_per_epoch * epochs` batches (in this case, 7178 batches). You may need to use the repeat() function when building your dataset.\n"
          ],
          "name": "stdout"
        }
      ]
    },
    {
      "cell_type": "code",
      "metadata": {
        "id": "V_pdIg1aRhKI",
        "colab": {
          "base_uri": "https://localhost:8080/"
        },
        "outputId": "ddce8e26-9283-4548-c4a9-47cf2ec811d4"
      },
      "source": [
        "train_data.class_indices"
      ],
      "execution_count": 99,
      "outputs": [
        {
          "output_type": "execute_result",
          "data": {
            "text/plain": [
              "{'angry': 0,\n",
              " 'disgusted': 1,\n",
              " 'fearful': 2,\n",
              " 'happy': 3,\n",
              " 'neutral': 4,\n",
              " 'sad': 5,\n",
              " 'surprised': 6}"
            ]
          },
          "metadata": {},
          "execution_count": 99
        }
      ]
    },
    {
      "cell_type": "code",
      "metadata": {
        "id": "FLn2NDrRRhzO"
      },
      "source": [
        "import numpy as np\n",
        "import pandas as pd\n",
        "cls_name = np.array(['angry', 'disgusted', 'fearful', 'happy','neutral', 'sad', 'surprised'])"
      ],
      "execution_count": 100,
      "outputs": []
    },
    {
      "cell_type": "code",
      "metadata": {
        "id": "p8EzXitpRjiI"
      },
      "source": [
        "submit_df = pd.DataFrame({'name': filenames, 'label': cls_name[predict.argmax(1)]})"
      ],
      "execution_count": 101,
      "outputs": []
    },
    {
      "cell_type": "code",
      "metadata": {
        "id": "EAmb0tH_RmAv",
        "colab": {
          "base_uri": "https://localhost:8080/",
          "height": 204
        },
        "outputId": "608fa18b-6658-458e-9343-9801e1e71e22"
      },
      "source": [
        "submit_df.head()"
      ],
      "execution_count": 102,
      "outputs": [
        {
          "output_type": "execute_result",
          "data": {
            "text/html": [
              "<div>\n",
              "<style scoped>\n",
              "    .dataframe tbody tr th:only-of-type {\n",
              "        vertical-align: middle;\n",
              "    }\n",
              "\n",
              "    .dataframe tbody tr th {\n",
              "        vertical-align: top;\n",
              "    }\n",
              "\n",
              "    .dataframe thead th {\n",
              "        text-align: right;\n",
              "    }\n",
              "</style>\n",
              "<table border=\"1\" class=\"dataframe\">\n",
              "  <thead>\n",
              "    <tr style=\"text-align: right;\">\n",
              "      <th></th>\n",
              "      <th>name</th>\n",
              "      <th>label</th>\n",
              "    </tr>\n",
              "  </thead>\n",
              "  <tbody>\n",
              "    <tr>\n",
              "      <th>0</th>\n",
              "      <td>test/00001.png</td>\n",
              "      <td>surprised</td>\n",
              "    </tr>\n",
              "    <tr>\n",
              "      <th>1</th>\n",
              "      <td>test/00002.png</td>\n",
              "      <td>fearful</td>\n",
              "    </tr>\n",
              "    <tr>\n",
              "      <th>2</th>\n",
              "      <td>test/00003.png</td>\n",
              "      <td>angry</td>\n",
              "    </tr>\n",
              "    <tr>\n",
              "      <th>3</th>\n",
              "      <td>test/00004.png</td>\n",
              "      <td>happy</td>\n",
              "    </tr>\n",
              "    <tr>\n",
              "      <th>4</th>\n",
              "      <td>test/00005.png</td>\n",
              "      <td>surprised</td>\n",
              "    </tr>\n",
              "  </tbody>\n",
              "</table>\n",
              "</div>"
            ],
            "text/plain": [
              "             name      label\n",
              "0  test/00001.png  surprised\n",
              "1  test/00002.png    fearful\n",
              "2  test/00003.png      angry\n",
              "3  test/00004.png      happy\n",
              "4  test/00005.png  surprised"
            ]
          },
          "metadata": {},
          "execution_count": 102
        }
      ]
    },
    {
      "cell_type": "code",
      "metadata": {
        "id": "g4WYokHxRosj"
      },
      "source": [
        "submit_df = submit_df[submit_df['name'].apply(lambda x: 'test' in x )]\n",
        "submit_df['name'] = submit_df['name'].apply(lambda x: x.split('/')[-1])"
      ],
      "execution_count": 103,
      "outputs": []
    },
    {
      "cell_type": "code",
      "metadata": {
        "id": "UnH67gqxRqWk"
      },
      "source": [
        "submit_df = submit_df.sort_values(by='name')\n",
        "submit_df.to_csv('submit.csv', index=None)"
      ],
      "execution_count": 104,
      "outputs": []
    }
  ]
}